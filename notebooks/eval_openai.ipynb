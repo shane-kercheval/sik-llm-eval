{
 "cells": [
  {
   "cell_type": "code",
   "execution_count": 1,
   "metadata": {},
   "outputs": [
    {
     "name": "stderr",
     "output_type": "stream",
     "text": [
      "/usr/local/lib/python3.11/site-packages/tqdm/auto.py:21: TqdmWarning: IProgress not found. Please update jupyter and ipywidgets. See https://ipywidgets.readthedocs.io/en/stable/user_install.html\n",
      "  from .autonotebook import tqdm as notebook_tqdm\n"
     ]
    }
   ],
   "source": [
    "from llm_evals.candidates import Candidate\n",
    "from llm_evals.eval import Eval"
   ]
  },
  {
   "cell_type": "code",
   "execution_count": 2,
   "metadata": {},
   "outputs": [
    {
     "data": {
      "text/plain": [
       "{'uuid': '0E454A44-627C-4B56-915B-8DCFE9DF2A55',\n",
       " 'metadata': {'name': 'OpenAI GPT-3.5-Turbo (1106)'},\n",
       " 'model_parameters': {'model_name': 'gpt-3.5-turbo-1106',\n",
       "  'system_message': 'You are a helpful AI assistant.',\n",
       "  'temperature': 0.01,\n",
       "  'max_tokens': 4096,\n",
       "  'seed': 42},\n",
       " 'candidate_type': 'OPENAI'}"
      ]
     },
     "execution_count": 2,
     "metadata": {},
     "output_type": "execute_result"
    }
   ],
   "source": [
    "candidate = Candidate.from_yaml('../evals/templates/candidate_openai.yaml')\n",
    "candidate.to_dict()"
   ]
  },
  {
   "cell_type": "code",
   "execution_count": 3,
   "metadata": {},
   "outputs": [
    {
     "data": {
      "text/plain": [
       "{'test_sequence': [{'prompt': 'Create a python function called `mask_emails` that uses regex to mask all emails. For each email in the format of `x@y.z`, the local part (`x`) should be masked, but the domain (`@y.z`) should be retained. Use type hints and docstrings.',\n",
       "   'ideal_response': 'To create a Python function called `mask_emails` that uses regex to mask all emails in a given text, follow these steps:\\n\\n- Import the `re` module for regular expression operations.\\n- Define the function `mask_emails` with type hints for the input and output.\\n- Use a regular expression to find all occurrences of emails in the text.\\n- Replace the local part of each email (before the \\'@\\') with an appropriate mask (like asterisks \\'*\\').\\n- Return the modified text with masked emails.\\n\\nHere\\'s how the function might look:\\n\\n```python\\nimport re\\n\\ndef mask_emails(text: str) -> str:\\n    \"\"\"\\n    Masks the local part of all email addresses found in the given text.\\n\\n    Args:\\n    text (str): A string containing email addresses.\\n\\n    Returns:\\n    str: The text with email local parts masked.\\n\\n    Example:\\n    >>> mask_emails(\"Contact us at example@test.com\")\\n    \\'Contact us at *******@test.com\\'\\n    \"\"\"\\n    return re.sub(r\\'(\\\\b[A-Za-z0-9._%+-]+)@\\', r\\'*******@\\', text)\\n```\\n\\nThis function uses a regular expression to identify email addresses in the input text. The `\\\\b[A-Za-z0-9._%+-]+` part matches the local part of the email address, and the `@` ensures that the match occurs right before the domain part. The `re.sub` function replaces the local part with asterisks. You can adjust the number of asterisks or the replacement character as needed.\\n',\n",
       "   'checks': [{'value': 're.sub(', 'check_type': 'CONTAINS'},\n",
       "    {'pattern': 'def mask_email\\\\(\\\\s*[a-zA-Z_][a-zA-Z0-9_]*\\\\s*(\\\\s*:\\\\s*[a-zA-Z_][a-zA-Z0-9_]*\\\\s*)?\\\\)\\\\s*:',\n",
       "     'check_type': 'REGEX'},\n",
       "    {'check_type': 'PYTHON_CODE_BLOCKS_PRESENT'}]},\n",
       "  {'prompt': 'Create a set of assertion statements that test the function.',\n",
       "   'ideal_response': 'To thoroughly test the mask_emails function, you should create a series of assertion statements that cover various scenarios, including normal cases, edge cases, and potentially unexpected inputs. Here\\'s a set of assertions you can use:\\n\\n```python\\n# Assuming the mask_emails function is defined as previously provided\\n# Test with a standard email\\nassert mask_emails(\"Contact me at john.doe@example.com for more information.\") == \"Contact me at *******@example.com for more information.\", \"Failed on standard email\"\\n# Test with multiple emails in the text\\nassert mask_emails(\"Emails are alice@example.com and bob@example.com\") == \"Emails are *******@example.com and *******@example.com\", \"Failed on multiple emails\"\\n# Test with mixed case email\\nassert mask_emails(\"Mixed case email: John.Doe@Example.COM\") == \"Mixed case email: *******@Example.COM\", \"Failed on mixed case email\"\\n# Test with email that has subdomains\\nassert mask_emails(\"Subdomain email: user@sub.domain.com\") == \"Subdomain email: *******@sub.domain.com\", \"Failed on subdomain email\"\\n# Test with no emails in the text\\nassert mask_emails(\"This is a test sentence with no emails.\") == \"This is a test sentence with no emails.\", \"Failed on no email\"\\n# Test with special characters in local part\\nassert mask_emails(\"Special chars email: user+1234@example.com\") == \"Special chars email: *******@example.com\", \"Failed on special characters\"\\n# Test with numeric email\\nassert mask_emails(\"Numeric email: 1234567890@numbers.com\") == \"Numeric email: *******@numbers.com\", \"Failed on numeric email\"\\n# Test with email in the beginning of the text\\nassert mask_emails(\"user@example.com is my email\") == \"*******@example.com is my email\", \"Failed on email at beginning\"\\n# Test with email at the end of the text\\nassert mask_emails(\"My email is user@example.com\") == \"My email is *******@example.com\", \"Failed on email at end\"\\n# Test with an empty string\\nassert mask_emails(\"\") == \"\", \"Failed on empty string\"\\nprint(\"All tests passed!\")\\n```\\n\\nThese tests cover a variety of common scenarios and edge cases, ensuring that the function behaves as expected in different situations. If all assertions pass without raising an AssertionError, it indicates that the function is working correctly for these test cases.\\n',\n",
       "   'checks': [{'value': 'assert mask_emails(', 'check_type': 'CONTAINS'},\n",
       "    {'check_type': 'PYTHON_CODE_BLOCKS_PRESENT'},\n",
       "    {'code_setup': 'import re\\n',\n",
       "     'functions': [\"def verify_mask_emails_with_no_email_returns_original_string(code_blocks: list[str]) -> bool:\\n    value = 'This is a string with no email addresses'\\n    return mask_emails(value) == value\\n\",\n",
       "      \"def verify_mask_emails_with_single_email_returns_masked_string(code_blocks: list[str]) -> bool:\\n    value = 'This is a string with an email Susie@McSusers.com.'\\n    return mask_emails(value) == 'This is a string with an email [EMAIL].'\\n\"],\n",
       "     'check_type': 'PYTHON_CODE_BLOCKS_RUN'}]}],\n",
       " 'uuid': '8C297EA8-42B9-4237-9571-5C95A042E3BA',\n",
       " 'version': 1,\n",
       " 'metadata': {'name': 'Python Function to Mask Emails',\n",
       "  'description': 'Creates a python function that uses regex to mask all emails.',\n",
       "  'difficulty': 1,\n",
       "  'tags': ['python', 'regex'],\n",
       "  'source': 'Anaconda. The ideal_responses were generated by ChatGPT 4.0 Turbo.'}}"
      ]
     },
     "execution_count": 3,
     "metadata": {},
     "output_type": "execute_result"
    }
   ],
   "source": [
    "eval_obj = Eval.from_yaml('../evals/evals/mask_emails.yaml')\n",
    "eval_obj.to_dict()"
   ]
  },
  {
   "cell_type": "code",
   "execution_count": 4,
   "metadata": {},
   "outputs": [
    {
     "name": "stdout",
     "output_type": "stream",
     "text": [
      "EvalResult:\n",
      "    # of Prompts Tested=2\n",
      "    Total Response Time (seconds)= 8.2\n",
      "    # of Response Characters=1,521\n",
      "    # of Code Blocks Generated=2\n",
      "    Characters per Second= 185.2\n",
      "    # of Checks=6\n",
      "    # of Successful Checks=4\n",
      "    % of Successful Checks= 66.7%\n"
     ]
    }
   ],
   "source": [
    "result = eval_obj(candidate)\n",
    "print(result)"
   ]
  },
  {
   "cell_type": "code",
   "execution_count": 11,
   "metadata": {},
   "outputs": [
    {
     "data": {
      "text/plain": [
       "[PassFailResult(value=True, success=True, metadata={'check_type': 'CONTAINS', 'check_value': 're.sub(', 'check_metadata': {}}),\n",
       " PassFailResult(value=False, success=False, metadata={'check_type': 'REGEX', 'check_pattern': 'def mask_email\\\\(\\\\s*[a-zA-Z_][a-zA-Z0-9_]*\\\\s*(\\\\s*:\\\\s*[a-zA-Z_][a-zA-Z0-9_]*\\\\s*)?\\\\)\\\\s*:', 'check_metadata': {}}),\n",
       " PassFailResult(value=True, success=True, metadata={'check_type': 'PYTHON_CODE_BLOCKS_PRESENT', 'num_code_blocks': 1, 'min_code_blocks': 1, 'code_blocks': ['import re\\n\\ndef mask_emails(text: str) -> str:\\n    \"\"\"\\n    Mask all emails in the given text.\\n    \\n    Args:\\n    text (str): The input text containing emails to be masked.\\n    \\n    Returns:\\n    str: The text with masked emails.\\n    \"\"\"\\n    pattern = r\\'\\\\b(\\\\w+)(@[\\\\w.-]+)\\\\b\\'\\n    masked_text = re.sub(pattern, r\\'[MASKED]\\\\2\\', text)\\n    return masked_text', '# Test case 1: Single email in the text\\nassert mask_emails(\"Please contact me at john@example.com\") == \"Please contact me at [MASKED]@example.com\"\\n\\n# Test case 2: Multiple emails in the text\\nassert mask_emails(\"Email me at alice@example.com or bob@example.org\") == \"Email me at [MASKED]@example.com or [MASKED]@example.org\"\\n\\n# Test case 3: Email with subdomain\\nassert mask_emails(\"Send an email to info@sub.example.com\") == \"Send an email to [MASKED]@sub.example.com\"\\n\\n# Test case 4: Email with hyphen in domain\\nassert mask_emails(\"Contact us at support@my-domain.com\") == \"Contact us at [MASKED]@my-domain.com\"']}),\n",
       " PassFailResult(value=True, success=True, metadata={'check_type': 'CONTAINS', 'check_value': 'assert mask_emails(', 'check_metadata': {}}),\n",
       " PassFailResult(value=True, success=True, metadata={'check_type': 'PYTHON_CODE_BLOCKS_PRESENT', 'num_code_blocks': 2, 'min_code_blocks': 1, 'code_blocks': ['import re\\n\\ndef mask_emails(text: str) -> str:\\n    \"\"\"\\n    Mask all emails in the given text.\\n    \\n    Args:\\n    text (str): The input text containing emails to be masked.\\n    \\n    Returns:\\n    str: The text with masked emails.\\n    \"\"\"\\n    pattern = r\\'\\\\b(\\\\w+)(@[\\\\w.-]+)\\\\b\\'\\n    masked_text = re.sub(pattern, r\\'[MASKED]\\\\2\\', text)\\n    return masked_text', '# Test case 1: Single email in the text\\nassert mask_emails(\"Please contact me at john@example.com\") == \"Please contact me at [MASKED]@example.com\"\\n\\n# Test case 2: Multiple emails in the text\\nassert mask_emails(\"Email me at alice@example.com or bob@example.org\") == \"Email me at [MASKED]@example.com or [MASKED]@example.org\"\\n\\n# Test case 3: Email with subdomain\\nassert mask_emails(\"Send an email to info@sub.example.com\") == \"Send an email to [MASKED]@sub.example.com\"\\n\\n# Test case 4: Email with hyphen in domain\\nassert mask_emails(\"Contact us at support@my-domain.com\") == \"Contact us at [MASKED]@my-domain.com\"']}),\n",
       " ScoreResult(value=0.75, success=False, metadata={'check_type': 'PYTHON_CODE_BLOCKS_RUN', 'num_code_blocks': 2, 'num_code_blocks_successful': 2, 'code_blocks': ['import re\\n\\ndef mask_emails(text: str) -> str:\\n    \"\"\"\\n    Mask all emails in the given text.\\n    \\n    Args:\\n    text (str): The input text containing emails to be masked.\\n    \\n    Returns:\\n    str: The text with masked emails.\\n    \"\"\"\\n    pattern = r\\'\\\\b(\\\\w+)(@[\\\\w.-]+)\\\\b\\'\\n    masked_text = re.sub(pattern, r\\'[MASKED]\\\\2\\', text)\\n    return masked_text', '# Test case 1: Single email in the text\\nassert mask_emails(\"Please contact me at john@example.com\") == \"Please contact me at [MASKED]@example.com\"\\n\\n# Test case 2: Multiple emails in the text\\nassert mask_emails(\"Email me at alice@example.com or bob@example.org\") == \"Email me at [MASKED]@example.com or [MASKED]@example.org\"\\n\\n# Test case 3: Email with subdomain\\nassert mask_emails(\"Send an email to info@sub.example.com\") == \"Send an email to [MASKED]@sub.example.com\"\\n\\n# Test case 4: Email with hyphen in domain\\nassert mask_emails(\"Contact us at support@my-domain.com\") == \"Contact us at [MASKED]@my-domain.com\"'], 'code_block_errors': [None, None], 'num_function_checks': 2, 'num_function_checks_successful': 1, 'function_check_results': [True, False], 'function_check_errors': [None, None]}, success_threshold=1.0)]"
      ]
     },
     "execution_count": 11,
     "metadata": {},
     "output_type": "execute_result"
    }
   ],
   "source": [
    "result.all_checks_results"
   ]
  },
  {
   "cell_type": "code",
   "execution_count": 10,
   "metadata": {},
   "outputs": [
    {
     "data": {
      "text/plain": [
       "{'check_type': 'PYTHON_CODE_BLOCKS_RUN',\n",
       " 'num_code_blocks': 2,\n",
       " 'num_code_blocks_successful': 2,\n",
       " 'code_blocks': ['import re\\n\\ndef mask_emails(text: str) -> str:\\n    \"\"\"\\n    Mask all emails in the given text.\\n    \\n    Args:\\n    text (str): The input text containing emails to be masked.\\n    \\n    Returns:\\n    str: The text with masked emails.\\n    \"\"\"\\n    pattern = r\\'\\\\b(\\\\w+)(@[\\\\w.-]+)\\\\b\\'\\n    masked_text = re.sub(pattern, r\\'[MASKED]\\\\2\\', text)\\n    return masked_text',\n",
       "  '# Test case 1: Single email in the text\\nassert mask_emails(\"Please contact me at john@example.com\") == \"Please contact me at [MASKED]@example.com\"\\n\\n# Test case 2: Multiple emails in the text\\nassert mask_emails(\"Email me at alice@example.com or bob@example.org\") == \"Email me at [MASKED]@example.com or [MASKED]@example.org\"\\n\\n# Test case 3: Email with subdomain\\nassert mask_emails(\"Send an email to info@sub.example.com\") == \"Send an email to [MASKED]@sub.example.com\"\\n\\n# Test case 4: Email with hyphen in domain\\nassert mask_emails(\"Contact us at support@my-domain.com\") == \"Contact us at [MASKED]@my-domain.com\"'],\n",
       " 'code_block_errors': [None, None],\n",
       " 'num_function_checks': 2,\n",
       " 'num_function_checks_successful': 1,\n",
       " 'function_check_results': [True, False],\n",
       " 'function_check_errors': [None, None]}"
      ]
     },
     "execution_count": 10,
     "metadata": {},
     "output_type": "execute_result"
    }
   ],
   "source": [
    "result.all_checks_results[-1].metadata"
   ]
  },
  {
   "cell_type": "code",
   "execution_count": null,
   "metadata": {},
   "outputs": [],
   "source": []
  },
  {
   "cell_type": "code",
   "execution_count": null,
   "metadata": {},
   "outputs": [],
   "source": []
  },
  {
   "cell_type": "code",
   "execution_count": null,
   "metadata": {},
   "outputs": [],
   "source": []
  },
  {
   "cell_type": "code",
   "execution_count": null,
   "metadata": {},
   "outputs": [],
   "source": []
  }
 ],
 "metadata": {
  "kernelspec": {
   "display_name": "Python 3",
   "language": "python",
   "name": "python3"
  },
  "language_info": {
   "codemirror_mode": {
    "name": "ipython",
    "version": 3
   },
   "file_extension": ".py",
   "mimetype": "text/x-python",
   "name": "python",
   "nbconvert_exporter": "python",
   "pygments_lexer": "ipython3",
   "version": "3.11.7"
  }
 },
 "nbformat": 4,
 "nbformat_minor": 2
}
