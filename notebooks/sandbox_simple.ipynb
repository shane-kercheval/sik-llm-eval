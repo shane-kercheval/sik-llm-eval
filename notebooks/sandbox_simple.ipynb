{
 "cells": [
  {
   "cell_type": "code",
   "execution_count": null,
   "metadata": {},
   "outputs": [],
   "source": [
    "from llm_evals.checks import ContainsCheck, PythonCodeBlocksPresent\n",
    "from llm_evals.eval import Eval, PromptTest\n",
    "\n",
    "\n",
    "eval_obj = Eval(\n",
    "    test_sequence=PromptTest(\n",
    "        prompt='Create a python function called `mask_emails` that masks emails',\n",
    "        checks=[\n",
    "            ContainsCheck(value='def mask_emails('),\n",
    "            PythonCodeBlocksPresent(),\n",
    "        ],\n",
    "    ),\n",
    ")\n",
    "print(eval_obj)"
   ]
  },
  {
   "cell_type": "code",
   "execution_count": null,
   "metadata": {},
   "outputs": [],
   "source": [
    "fake_llm = lambda _: \"```python\\ndef mask_emails(emails):\\n...\\n```\"  # noqa\n",
    "result = eval_obj(fake_llm)\n",
    "print(result)"
   ]
  },
  {
   "cell_type": "code",
   "execution_count": null,
   "metadata": {},
   "outputs": [],
   "source": []
  },
  {
   "cell_type": "code",
   "execution_count": null,
   "metadata": {},
   "outputs": [],
   "source": [
    "result.results"
   ]
  },
  {
   "cell_type": "code",
   "execution_count": null,
   "metadata": {},
   "outputs": [],
   "source": []
  },
  {
   "cell_type": "code",
   "execution_count": null,
   "metadata": {},
   "outputs": [],
   "source": [
    "{'a': [1, 2, 3], 'b': [4, 5, 6]} == {'a': [1, 2, 3], 'b': [4, 5, 6]}"
   ]
  },
  {
   "cell_type": "code",
   "execution_count": null,
   "metadata": {},
   "outputs": [],
   "source": [
    "import yaml\n",
    "with open('../evals/evals/mask_emails.yaml') as f:\n",
    "    config = yaml.safe_load(f)\n",
    "\n",
    "# def mask_emails\\([a-zA-Z_]+\\: str\\) -> str\\:\n",
    "# def mask_emails\\\\([a-zA-Z_]+\\\\:?( str)?\\\\)( -> str)?\\\\:\n",
    "pattern = config['test_sequence'][0]['checks'][1]['pattern']\n",
    "\n",
    "# Function to test if a string matches the given regex pattern\n",
    "import re\n",
    "def test_regex(input_string):\n",
    "    return bool(re.match(pattern, input_string))\n",
    "\n",
    "# Test strings\n",
    "test_strings = [\n",
    "    \"def mask_emails(email: str) -> str:\",\n",
    "    \"def mask_emails(email: str):\",\n",
    "    \"def mask_emails(email) -> str:\",\n",
    "    \"def mask_emails(email:str) -> str:\",\n",
    "    \"def mask_emails(email) :\",\n",
    "    \"def mask_emails_123(email:str):\",\n",
    "    \"mask_emails(email:str):\",\n",
    "]\n",
    "\n",
    "# Testing the regex with different strings\n",
    "test_results = {string: test_regex(string) for string in test_strings}\n",
    "test_results"
   ]
  },
  {
   "cell_type": "code",
   "execution_count": null,
   "metadata": {},
   "outputs": [],
   "source": [
    "a = [1, 2, 3]"
   ]
  },
  {
   "cell_type": "code",
   "execution_count": null,
   "metadata": {},
   "outputs": [],
   "source": [
    "print(a)\n",
    "print(a.pop(0))\n",
    "print(a)"
   ]
  },
  {
   "cell_type": "code",
   "execution_count": null,
   "metadata": {},
   "outputs": [],
   "source": []
  },
  {
   "cell_type": "code",
   "execution_count": null,
   "metadata": {},
   "outputs": [],
   "source": []
  },
  {
   "cell_type": "code",
   "execution_count": null,
   "metadata": {},
   "outputs": [],
   "source": [
    "{'asdf': 1, 'ffff': 2}.copy().pop('asdf')"
   ]
  },
  {
   "cell_type": "code",
   "execution_count": null,
   "metadata": {},
   "outputs": [],
   "source": []
  },
  {
   "cell_type": "code",
   "execution_count": null,
   "metadata": {},
   "outputs": [],
   "source": [
    "import inspect\n",
    "\n",
    "def my_function():\n",
    "    # Your function's code\n",
    "    print(\"Hello, world!\")\n",
    "\n",
    "function_as_string = inspect.getsource(my_function)\n",
    "\n",
    "print(function_as_string)\n"
   ]
  },
  {
   "cell_type": "code",
   "execution_count": null,
   "metadata": {},
   "outputs": [],
   "source": [
    "sum(x for x in [1, 0, None])"
   ]
  },
  {
   "cell_type": "code",
   "execution_count": null,
   "metadata": {},
   "outputs": [],
   "source": [
    "from typing import ClassVar\n",
    "from pydantic import BaseModel\n",
    "\n",
    "class Check(BaseModel):\n",
    "    type_name: str  # Discriminator field\n",
    "    _registry: ClassVar[dict] = {}\n",
    "\n",
    "    @classmethod\n",
    "    def register_subclass(cls, subclass):\n",
    "        cls._registry[subclass.type_name] = subclass\n",
    "        return subclass\n",
    "\n",
    "    @classmethod\n",
    "    def deserialize(cls, data: dict):\n",
    "        type_name = data.get('type_name')\n",
    "        if type_name in cls._registry:\n",
    "            return cls._registry[type_name](**data)\n",
    "        raise ValueError(f\"Unknown type {type_name}\")\n",
    "\n",
    "\n",
    "@Check.register_subclass\n",
    "class XCheck(Check):\n",
    "    type_name: str = 'xcheck'\n",
    "    # Add any specific fields and methods for XCheck\n",
    "\n",
    "@Check.register_subclass\n",
    "class YCheck(Check):\n",
    "    type_name: str = 'ycheck'\n",
    "    # Add any specific fields and methods for YCheck\n",
    "\n",
    "\n",
    "\n",
    "\n",
    "xcheck_instance = XCheck()\n",
    "ycheck_instance = YCheck()\n",
    "\n",
    "# Serialize to dictionary\n",
    "xcheck_dict = xcheck_instance.dict()\n",
    "ycheck_dict = ycheck_instance.dict()\n"
   ]
  },
  {
   "cell_type": "code",
   "execution_count": null,
   "metadata": {},
   "outputs": [],
   "source": []
  },
  {
   "cell_type": "code",
   "execution_count": null,
   "metadata": {},
   "outputs": [],
   "source": []
  },
  {
   "cell_type": "code",
   "execution_count": null,
   "metadata": {},
   "outputs": [],
   "source": [
    "from pydantic import BaseModel\n",
    "from typing import ClassVar\n",
    "\n",
    "# class Check(BaseModel):\n",
    "#     type_name: str  # Discriminator field\n",
    "#     _registry: ClassVar[dict] = {}\n",
    "\n",
    "#     @classmethod\n",
    "#     def register_subclass(cls, type_name):\n",
    "#         def decorator(subclass):\n",
    "#             cls._registry[type_name] = subclass\n",
    "#             return subclass\n",
    "#         return decorator\n",
    "\n",
    "#     @classmethod\n",
    "#     def deserialize(cls, data: dict):\n",
    "#         type_name = data.get('type_name')\n",
    "#         if type_name in cls._registry:\n",
    "#             return cls._registry[type_name](**data)\n",
    "#         raise ValueError(f\"Unknown type {type_name}\")\n",
    "\n",
    "class Check(BaseModel):\n",
    "    type_name: str  # Discriminator field\n",
    "    _registry: ClassVar[dict] = {}\n",
    "\n",
    "    @classmethod\n",
    "    def register_subclass(cls, type_name):\n",
    "        def decorator(subclass):\n",
    "            subclass.type_name = type_name  # Set type_name attribute on subclass\n",
    "            cls._registry[type_name] = subclass\n",
    "            return subclass\n",
    "        return decorator\n",
    "\n",
    "    @classmethod\n",
    "    def deserialize(cls, data: dict):\n",
    "        type_name = data.get('type_name')\n",
    "        if type_name in cls._registry:\n",
    "            return cls._registry[type_name](**data)\n",
    "        raise ValueError(f\"Unknown type {type_name}\")"
   ]
  },
  {
   "cell_type": "code",
   "execution_count": null,
   "metadata": {},
   "outputs": [],
   "source": [
    "@Check.register_subclass('xcheck')\n",
    "class XCheck(Check):\n",
    "    # type_name: str = 'xcheck'\n",
    "    var: str = 'x'\n",
    "\n",
    "@Check.register_subclass('ycheck')\n",
    "class YCheck(Check):\n",
    "    # type_name: str = 'ycheck'\n",
    "    var: str = 'y'\n"
   ]
  },
  {
   "cell_type": "code",
   "execution_count": null,
   "metadata": {},
   "outputs": [],
   "source": [
    "xcheck_instance = XCheck()\n",
    "ycheck_instance = YCheck()\n",
    "\n",
    "# # Serialize to dictionary\n",
    "xcheck_dict = xcheck_instance.model_dump()\n",
    "print(xcheck_dict)\n",
    "ycheck_dict = ycheck_instance.model_dump()\n",
    "print(ycheck_dict)\n"
   ]
  },
  {
   "cell_type": "code",
   "execution_count": null,
   "metadata": {},
   "outputs": [],
   "source": [
    "Check.deserialize(xcheck_dict)"
   ]
  },
  {
   "cell_type": "code",
   "execution_count": null,
   "metadata": {},
   "outputs": [],
   "source": [
    "Check.deserialize(ycheck_dict)"
   ]
  },
  {
   "cell_type": "code",
   "execution_count": null,
   "metadata": {},
   "outputs": [],
   "source": []
  },
  {
   "cell_type": "code",
   "execution_count": null,
   "metadata": {},
   "outputs": [],
   "source": []
  },
  {
   "cell_type": "code",
   "execution_count": null,
   "metadata": {},
   "outputs": [],
   "source": [
    "from pydantic import BaseModel\n",
    "from typing import ClassVar\n",
    "\n",
    "class Check(BaseModel):\n",
    "    type_name: ClassVar[str]  # Discriminator field as a ClassVar\n",
    "    _registry: ClassVar[dict] = {}\n",
    "\n",
    "    @classmethod\n",
    "    def register_subclass(cls, type_name):\n",
    "        def decorator(subclass):\n",
    "            subclass.type_name = type_name  # Set type_name as a class attribute\n",
    "            cls._registry[type_name] = subclass\n",
    "            return subclass\n",
    "        return decorator\n",
    "\n",
    "    @classmethod\n",
    "    def deserialize(cls, data: dict):\n",
    "        type_name = data.get('type_name')\n",
    "        if type_name in cls._registry:\n",
    "            return cls._registry[type_name](**data)\n",
    "        raise ValueError(f\"Unknown type {type_name}\")\n",
    "\n",
    "    def serialize(self):\n",
    "        value = self.model_dump()\n",
    "        if self.type_name:\n",
    "            value['type_name'] = self.type_name\n",
    "        return value\n",
    "\n",
    "\n",
    "@Check.register_subclass('xcheck')\n",
    "class XCheck(Check):\n",
    "    # type_name: str = 'xcheck'\n",
    "    var: str = 'x'\n",
    "\n",
    "@Check.register_subclass('ycheck')\n",
    "class YCheck(Check):\n",
    "    # type_name: str = 'ycheck'\n",
    "    var: str = 'y'\n",
    "\n",
    "\n",
    "xcheck_instance = XCheck()\n",
    "ycheck_instance = YCheck()\n",
    "\n",
    "# # Serialize to dictionary\n",
    "xcheck_dict = xcheck_instance.serialize()\n",
    "print(xcheck_dict)\n",
    "ycheck_dict = ycheck_instance.serialize()\n",
    "print(ycheck_dict)\n",
    "\n",
    "print(Check.deserialize(xcheck_dict))\n",
    "print(Check.deserialize(ycheck_dict))\n"
   ]
  },
  {
   "cell_type": "code",
   "execution_count": null,
   "metadata": {},
   "outputs": [],
   "source": [
    "xcheck_instance.type_name"
   ]
  },
  {
   "cell_type": "code",
   "execution_count": null,
   "metadata": {},
   "outputs": [],
   "source": []
  },
  {
   "cell_type": "code",
   "execution_count": null,
   "metadata": {},
   "outputs": [],
   "source": []
  },
  {
   "cell_type": "code",
   "execution_count": null,
   "metadata": {},
   "outputs": [],
   "source": []
  },
  {
   "cell_type": "code",
   "execution_count": null,
   "metadata": {},
   "outputs": [],
   "source": [
    "from pydantic import BaseModel\n",
    "from typing import ClassVar\n",
    "\n",
    "class Check(BaseModel):\n",
    "    type_name: ClassVar[str | None] = None\n",
    "    _registry: ClassVar[dict] = {}\n",
    "\n",
    "    @classmethod\n",
    "    def register_subclass(cls, type_name: str):  # noqa: ANN102\n",
    "        \"\"\"Register a subclass of Check.\"\"\"\n",
    "        def decorator(subclass):\n",
    "            subclass.type_name = type_name  # Set type_name as a class attribute\n",
    "            cls._registry[type_name] = subclass\n",
    "            return subclass\n",
    "        return decorator\n",
    "\n",
    "    @classmethod\n",
    "    def from_dict(cls, data: dict):\n",
    "        type_name = data.get('type_name')\n",
    "        if type_name in cls._registry:\n",
    "            return cls._registry[type_name](**data)\n",
    "        raise ValueError(f\"Unknown type {type_name}\")\n",
    "\n",
    "    def to_dict(self):\n",
    "        value = self.model_dump()\n",
    "        if self.type_name:\n",
    "            value['type_name'] = self.type_name\n",
    "        return value\n",
    "\n",
    "\n",
    "@Check.register_subclass('xcheck')\n",
    "class XCheck(Check):\n",
    "    # type_name: str = 'xcheck'\n",
    "    var: str = 'x'\n",
    "\n",
    "@Check.register_subclass('ycheck')\n",
    "class YCheck(Check):\n",
    "    # type_name: str = 'ycheck'\n",
    "    var: str = 'y'\n",
    "\n",
    "class ZCheck(Check):\n",
    "    var: str = 'z'\n",
    "\n",
    "\n",
    "xcheck_instance = XCheck()\n",
    "ycheck_instance = YCheck()\n",
    "zcheck_instance = ZCheck()\n",
    "\n",
    "# # Serialize to dictionary\n",
    "xcheck_dict = xcheck_instance.to_dict()\n",
    "print(xcheck_dict)\n",
    "ycheck_dict = ycheck_instance.to_dict()\n",
    "print(ycheck_dict)\n",
    "zcheck_dict = zcheck_instance.to_dict()\n",
    "print(zcheck_dict)\n",
    "\n",
    "print(Check.from_dict(xcheck_dict))\n",
    "print(Check.from_dict(ycheck_dict))\n",
    "print(Check.from_dict(zcheck_dict))\n"
   ]
  },
  {
   "cell_type": "code",
   "execution_count": null,
   "metadata": {},
   "outputs": [],
   "source": []
  },
  {
   "cell_type": "code",
   "execution_count": null,
   "metadata": {},
   "outputs": [],
   "source": []
  },
  {
   "cell_type": "code",
   "execution_count": null,
   "metadata": {},
   "outputs": [],
   "source": []
  },
  {
   "cell_type": "code",
   "execution_count": null,
   "metadata": {},
   "outputs": [],
   "source": []
  },
  {
   "cell_type": "code",
   "execution_count": null,
   "metadata": {},
   "outputs": [],
   "source": [
    "num_cpus = 20\n",
    "candidates = list(range(10))\n",
    "for i in range(0, len(candidates), num_cpus):\n",
    "    candidate_batch = candidates[i:i + num_cpus]\n",
    "    print(candidate_batch)\n"
   ]
  },
  {
   "cell_type": "code",
   "execution_count": 2,
   "metadata": {},
   "outputs": [
    {
     "name": "stdout",
     "output_type": "stream",
     "text": [
      "ChatCompletionMessage(content=\"```python\\nimport re\\ndef mask_emails(text):\\n    pattern = r'\\\\b[A-Za-z0-9._%+-]+@[A-Za-z0-9.-]+\\\\.[A-Z|a-z]{2,}\\\\b'\\n    emails = re.findall(pattern, text)\\n    for email in emails:\\n        text = text.replace(email, '{' + str(len(emails)) + '}' + '[EMAIL HIDDEN]')\\n    return text\\n```\\nThis function uses a regular expression pattern to find all emails in the given string and then masks them by replacing each email with a placeholder containing the number of occurrences of email addresses in the string and the phrase '[EMAIL HIDDEN]'. For example, if there are 3 emails in the string, the first email will be masked as '{3}' + '[EMAIL HIDDEN]', the second one as '{2}' + '[EMAIL HIDDEN]' and so on. You can replace '[EMAIL HIDDEN]' with any placeholder or pattern you prefer for hiding actual emails in the output.\", role='assistant', function_call=None, tool_calls=None)\n"
     ]
    }
   ],
   "source": [
    "# Example: reuse your existing OpenAI setup\n",
    "from openai import OpenAI\n",
    "\n",
    "# Point to the local server\n",
    "# base_url = 'http://localhost:1234/v1'\n",
    "base_url = 'http://host.docker.internal:1234/v1'\n",
    "client = OpenAI(base_url=base_url, api_key='not-needed')\n",
    "\n",
    "completion = client.chat.completions.create(\n",
    "  model='local-model', # this field is currently unused\n",
    "  messages=[\n",
    "    {'role': 'system', 'content': \"You are a helpful AI assistant.\"},\n",
    "    {'role': 'user', 'content': \"Write a python function called mask_emails that tasks a string and masks all emails in it.\"},\n",
    "  ],\n",
    "  temperature=0.7,\n",
    ")\n",
    "\n",
    "print(completion.choices[0].message)"
   ]
  },
  {
   "cell_type": "code",
   "execution_count": 5,
   "metadata": {},
   "outputs": [
    {
     "data": {
      "text/markdown": [
       "```python\n",
       "import re\n",
       "def mask_emails(text):\n",
       "    pattern = r'\\b[A-Za-z0-9._%+-]+@[A-Za-z0-9.-]+\\.[A-Z|a-z]{2,}\\b'\n",
       "    emails = re.findall(pattern, text)\n",
       "    for email in emails:\n",
       "        text = text.replace(email, '{' + str(len(emails)) + '}' + '[EMAIL HIDDEN]')\n",
       "    return text\n",
       "```\n",
       "This function uses a regular expression pattern to find all emails in the given string and then masks them by replacing each email with a placeholder containing the number of occurrences of email addresses in the string and the phrase '[EMAIL HIDDEN]'. For example, if there are 3 emails in the string, the first email will be masked as '{3}' + '[EMAIL HIDDEN]', the second one as '{2}' + '[EMAIL HIDDEN]' and so on. You can replace '[EMAIL HIDDEN]' with any placeholder or pattern you prefer for hiding actual emails in the output."
      ],
      "text/plain": [
       "<IPython.core.display.Markdown object>"
      ]
     },
     "metadata": {},
     "output_type": "display_data"
    }
   ],
   "source": [
    "from IPython.display import display, Markdown\n",
    "content = completion.choices[0].message.content\n",
    "display(Markdown(content))"
   ]
  },
  {
   "cell_type": "code",
   "execution_count": null,
   "metadata": {},
   "outputs": [],
   "source": [
    "\n",
    "from llm_evals.eval import EvalResult\n",
    "import yaml\n",
    "\n",
    "with open('__temp__/0E454A44-627C-4B56-915B-8DCFE9DF2A55-8C297EA8-42B9-4237-9571-5C95A042E3BA.yaml') as f:\n",
    "    config = yaml.safe_load(f)\n",
    "\n",
    "result = EvalResult(**config)"
   ]
  },
  {
   "cell_type": "code",
   "execution_count": null,
   "metadata": {},
   "outputs": [],
   "source": [
    "result.eval_obj.test_sequence[0].ideal_response"
   ]
  },
  {
   "cell_type": "code",
   "execution_count": null,
   "metadata": {},
   "outputs": [],
   "source": []
  },
  {
   "cell_type": "code",
   "execution_count": 6,
   "metadata": {},
   "outputs": [
    {
     "name": "stdout",
     "output_type": "stream",
     "text": [
      "```python\n",
      "import re\n",
      "def mask_emails(text):\n",
      "    pattern = r'\\b[A-Za-z0-9._%+-]+@[A-Za-z0-9.-]+\\.[A-Z|a-z]{2,}\\b'\n",
      "    emails = re.findall(pattern, text)\n",
      "    for email in emails:\n",
      "        text = text.replace(email, '{' + str(len(emails)) + '}' + '[EMAIL HIDDEN]')\n",
      "    return text\n",
      "```\n",
      "This function uses a regular expression pattern to find all emails in the given string and then masks them by replacing each email with a placeholder containing the number of occurrences of email addresses in the string and the phrase '[EMAIL HIDDEN]'. For example, if there are 3 emails in the string, the first email will be masked as '{3}' + '[EMAIL HIDDEN]', the second one as '{2}' + '[EMAIL HIDDEN]' and so on. You can replace '[EMAIL HIDDEN]' with any placeholder or pattern you prefer for hiding actual emails in the output."
     ]
    }
   ],
   "source": [
    "from llm_evals.llms.openai import OpenAIServerChat\n",
    "\n",
    "base_url = 'http://host.docker.internal:1234/v1'\n",
    "chat = OpenAIServerChat(base_url=base_url, streaming_callback=lambda x: print(x.response, end='', flush=True))  # noqa\n",
    "response = chat(\"Write a python function called mask_emails that tasks a string and masks all emails in it.\")"
   ]
  },
  {
   "cell_type": "code",
   "execution_count": 7,
   "metadata": {},
   "outputs": [
    {
     "data": {
      "text/markdown": [
       "```python\n",
       "import re\n",
       "def mask_emails(text):\n",
       "    pattern = r'\\b[A-Za-z0-9._%+-]+@[A-Za-z0-9.-]+\\.[A-Z|a-z]{2,}\\b'\n",
       "    emails = re.findall(pattern, text)\n",
       "    for email in emails:\n",
       "        text = text.replace(email, '{' + str(len(emails)) + '}' + '[EMAIL HIDDEN]')\n",
       "    return text\n",
       "```\n",
       "This function uses a regular expression pattern to find all emails in the given string and then masks them by replacing each email with a placeholder containing the number of occurrences of email addresses in the string and the phrase '[EMAIL HIDDEN]'. For example, if there are 3 emails in the string, the first email will be masked as '{3}' + '[EMAIL HIDDEN]', the second one as '{2}' + '[EMAIL HIDDEN]' and so on. You can replace '[EMAIL HIDDEN]' with any placeholder or pattern you prefer for hiding actual emails in the output."
      ],
      "text/plain": [
       "<IPython.core.display.Markdown object>"
      ]
     },
     "metadata": {},
     "output_type": "display_data"
    }
   ],
   "source": [
    "display(Markdown(response))"
   ]
  },
  {
   "cell_type": "code",
   "execution_count": 9,
   "metadata": {},
   "outputs": [
    {
     "name": "stdout",
     "output_type": "stream",
     "text": [
      "```python\n",
      "def test_mask_emails():\n",
      "    text = \"John Doe <john.doe@example.com> and Jane Doe <jane.doe2@example.net> are new users.\"\n",
      "    expected_output = \"John Doe <{1}' + '[EMAIL HIDDEN]'> and Jane Doe <{2}' + '[EMAIL HIDDEN]'> are new users.\"\n",
      "    assert mask_emails(text) == expected_output, \"Function did not mask emails correctly\"\n",
      "    \n",
      "    text = \"Please contact john.doe@example.com or jane.doe2@example.net for support.\"\n",
      "    expected_output = \"Please contact {1}' + '[EMAIL HIDDEN]'> or {2}' + '[EMAIL HIDDEN]'> for support.\"\n",
      "    assert mask_emails(text) == expected_output, \"Function did not mask emails correctly\"\n",
      "\n",
      "test_mask_emails()\n",
      "```\n",
      "These test statements check that the `mask_emails` function correctly masks all"
     ]
    },
    {
     "name": "stdout",
     "output_type": "stream",
     "text": [
      " occurrences of email addresses in a given string. The first test statement checks that two emails are correctly masked and replaced with placeholders, while the second test statement checks that multiple occurrences of the same email address are also correctly masked."
     ]
    },
    {
     "data": {
      "text/markdown": [
       "```python\n",
       "def test_mask_emails():\n",
       "    text = \"John Doe <john.doe@example.com> and Jane Doe <jane.doe2@example.net> are new users.\"\n",
       "    expected_output = \"John Doe <{1}' + '[EMAIL HIDDEN]'> and Jane Doe <{2}' + '[EMAIL HIDDEN]'> are new users.\"\n",
       "    assert mask_emails(text) == expected_output, \"Function did not mask emails correctly\"\n",
       "    \n",
       "    text = \"Please contact john.doe@example.com or jane.doe2@example.net for support.\"\n",
       "    expected_output = \"Please contact {1}' + '[EMAIL HIDDEN]'> or {2}' + '[EMAIL HIDDEN]'> for support.\"\n",
       "    assert mask_emails(text) == expected_output, \"Function did not mask emails correctly\"\n",
       "\n",
       "test_mask_emails()\n",
       "```\n",
       "These test statements check that the `mask_emails` function correctly masks all occurrences of email addresses in a given string. The first test statement checks that two emails are correctly masked and replaced with placeholders, while the second test statement checks that multiple occurrences of the same email address are also correctly masked."
      ],
      "text/plain": [
       "<IPython.core.display.Markdown object>"
      ]
     },
     "metadata": {},
     "output_type": "display_data"
    }
   ],
   "source": [
    "response = chat(\"Now write some assertion statements that will test the function.\")\n",
    "display(Markdown(response))"
   ]
  },
  {
   "cell_type": "code",
   "execution_count": null,
   "metadata": {},
   "outputs": [],
   "source": []
  },
  {
   "cell_type": "code",
   "execution_count": null,
   "metadata": {},
   "outputs": [],
   "source": []
  }
 ],
 "metadata": {
  "kernelspec": {
   "display_name": "Python 3",
   "language": "python",
   "name": "python3"
  },
  "language_info": {
   "codemirror_mode": {
    "name": "ipython",
    "version": 3
   },
   "file_extension": ".py",
   "mimetype": "text/x-python",
   "name": "python",
   "nbconvert_exporter": "python",
   "pygments_lexer": "ipython3",
   "version": "3.11.7"
  }
 },
 "nbformat": 4,
 "nbformat_minor": 2
}
