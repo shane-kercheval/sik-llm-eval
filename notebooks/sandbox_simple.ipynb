{
 "cells": [
  {
   "cell_type": "code",
   "execution_count": null,
   "metadata": {},
   "outputs": [],
   "source": []
  },
  {
   "cell_type": "code",
   "execution_count": 17,
   "metadata": {},
   "outputs": [
    {
     "name": "stdout",
     "output_type": "stream",
     "text": [
      "Eval(\n",
      "    uuid=None,\n",
      "    test_sequence=[\n",
      "        PromptTest(\n",
      "            prompt='Create a python function called `mask_emails` that masks emails',\n",
      "            checks=[\n",
      "                ContainsCheck(value='def mask_emails(', metadata={}),\n",
      "                PythonCodeBlocksPresent(min_code_blocks=1, metadata={})\n",
      "            ],\n",
      "        )\n",
      "    ],\n",
      ")\n"
     ]
    }
   ],
   "source": [
    "\n",
    "from llm_evals.checks import ContainsCheck, PythonCodeBlocksPresent\n",
    "from llm_evals.eval import Eval, PromptTest\n",
    "\n",
    "\n",
    "eval_obj = Eval(\n",
    "    test_sequence=PromptTest(\n",
    "        prompt='Create a python function called `mask_emails` that masks emails',\n",
    "        checks=[\n",
    "            ContainsCheck(value='def mask_emails('),\n",
    "            PythonCodeBlocksPresent(),\n",
    "        ],\n",
    "    ),\n",
    ")\n",
    "print(eval_obj)"
   ]
  },
  {
   "cell_type": "code",
   "execution_count": 18,
   "metadata": {},
   "outputs": [
    {
     "name": "stdout",
     "output_type": "stream",
     "text": [
      "EvalResult:\n",
      "    # of Response Characters=42\n",
      "    Total Time (seconds)=5.4836273193359375e-06\n",
      "    Characters per Second=6477855.3626524145\n",
      "    # of Checks=2\n",
      "    # of Pass/Fail Checks=2\n",
      "    # of Passing Checks=1\n",
      "    % of Passing Checks=0.5\n"
     ]
    }
   ],
   "source": [
    "fake_llm = lambda _: \"```python\\ndef mask_emails(emails):\\n...\\n```\"  # noqa\n",
    "result = eval_obj(fake_llm)\n",
    "print(result)"
   ]
  },
  {
   "cell_type": "code",
   "execution_count": null,
   "metadata": {},
   "outputs": [],
   "source": []
  }
 ],
 "metadata": {
  "kernelspec": {
   "display_name": "Python 3",
   "language": "python",
   "name": "python3"
  },
  "language_info": {
   "codemirror_mode": {
    "name": "ipython",
    "version": 3
   },
   "file_extension": ".py",
   "mimetype": "text/x-python",
   "name": "python",
   "nbconvert_exporter": "python",
   "pygments_lexer": "ipython3",
   "version": "3.11.7"
  }
 },
 "nbformat": 4,
 "nbformat_minor": 2
}
