{
 "cells": [
  {
   "cell_type": "code",
   "execution_count": null,
   "metadata": {},
   "outputs": [],
   "source": []
  },
  {
   "cell_type": "code",
   "execution_count": 17,
   "metadata": {},
   "outputs": [
    {
     "name": "stdout",
     "output_type": "stream",
     "text": [
      "Eval(\n",
      "    uuid=None,\n",
      "    test_sequence=[\n",
      "        PromptTest(\n",
      "            prompt='Create a python function called `mask_emails` that masks emails',\n",
      "            checks=[\n",
      "                ContainsCheck(value='def mask_emails(', metadata={}),\n",
      "                PythonCodeBlocksPresent(min_code_blocks=1, metadata={})\n",
      "            ],\n",
      "        )\n",
      "    ],\n",
      ")\n"
     ]
    }
   ],
   "source": [
    "\n",
    "from llm_evals.checks import ContainsCheck, PythonCodeBlocksPresent\n",
    "from llm_evals.eval import Eval, PromptTest\n",
    "\n",
    "\n",
    "eval_obj = Eval(\n",
    "    test_sequence=PromptTest(\n",
    "        prompt='Create a python function called `mask_emails` that masks emails',\n",
    "        checks=[\n",
    "            ContainsCheck(value='def mask_emails('),\n",
    "            PythonCodeBlocksPresent(),\n",
    "        ],\n",
    "    ),\n",
    ")\n",
    "print(eval_obj)"
   ]
  },
  {
   "cell_type": "code",
   "execution_count": 18,
   "metadata": {},
   "outputs": [
    {
     "name": "stdout",
     "output_type": "stream",
     "text": [
      "EvalResult:\n",
      "    # of Response Characters=42\n",
      "    Total Time (seconds)=5.4836273193359375e-06\n",
      "    Characters per Second=6477855.3626524145\n",
      "    # of Checks=2\n",
      "    # of Pass/Fail Checks=2\n",
      "    # of Passing Checks=1\n",
      "    % of Passing Checks=0.5\n"
     ]
    }
   ],
   "source": [
    "fake_llm = lambda _: \"```python\\ndef mask_emails(emails):\\n...\\n```\"  # noqa\n",
    "result = eval_obj(fake_llm)\n",
    "print(result)"
   ]
  },
  {
   "cell_type": "code",
   "execution_count": null,
   "metadata": {},
   "outputs": [],
   "source": []
  },
  {
   "cell_type": "code",
   "execution_count": null,
   "metadata": {},
   "outputs": [],
   "source": []
  },
  {
   "cell_type": "code",
   "execution_count": null,
   "metadata": {},
   "outputs": [],
   "source": []
  },
  {
   "cell_type": "code",
   "execution_count": null,
   "metadata": {},
   "outputs": [],
   "source": [
    "def func(x):\n",
    "    return x + 1\n",
    "\n",
    "str(func)"
   ]
  },
  {
   "cell_type": "code",
   "execution_count": 35,
   "metadata": {},
   "outputs": [
    {
     "name": "stdout",
     "output_type": "stream",
     "text": [
      "def <lambda>(x, y)\n",
      "class dict(self, /, *args, **kwargs)\n",
      "lambda (*args, sep=' ', end='\\n', file=None, flush=False)\n",
      "def func(x)\n"
     ]
    }
   ],
   "source": [
    "import inspect\n",
    "\n",
    "def get_callable_info(callable_obj):\n",
    "    if inspect.isfunction(callable_obj) or inspect.ismethod(callable_obj):\n",
    "        # Function or method\n",
    "        name = callable_obj.__name__\n",
    "        params = str(inspect.signature(callable_obj))\n",
    "        return f\"def {name}{params}\"\n",
    "\n",
    "    elif inspect.isclass(callable_obj):\n",
    "        # Class\n",
    "        name = callable_obj.__name__\n",
    "        constructor = callable_obj.__init__\n",
    "        params = str(inspect.signature(constructor))\n",
    "        return f\"class {name}{params}\"\n",
    "\n",
    "    elif callable(callable_obj):\n",
    "        # Lambda or other callable objects without a __name__ attribute\n",
    "        params = str(inspect.signature(callable_obj))\n",
    "        return f\"lambda {params}\"\n",
    "\n",
    "    else:\n",
    "        return \"Not a callable object\"\n",
    "\n",
    "# Example usage\n",
    "print(get_callable_info(lambda x, y: x + y))  # Lambda function\n",
    "print(get_callable_info(dict))                # Class\n",
    "print(get_callable_info(print))               # Function\n",
    "print(get_callable_info(func))               # Function\n"
   ]
  },
  {
   "cell_type": "code",
   "execution_count": null,
   "metadata": {},
   "outputs": [],
   "source": []
  },
  {
   "cell_type": "code",
   "execution_count": 30,
   "metadata": {},
   "outputs": [
    {
     "data": {
      "text/plain": [
       "'<function func at 0xffff7502b240>'"
      ]
     },
     "execution_count": 30,
     "metadata": {},
     "output_type": "execute_result"
    }
   ],
   "source": [
    "def func(x):\n",
    "    return x + 1\n",
    "\n",
    "str(func)"
   ]
  },
  {
   "cell_type": "code",
   "execution_count": 31,
   "metadata": {},
   "outputs": [
    {
     "data": {
      "text/plain": [
       "'(x)'"
      ]
     },
     "execution_count": 31,
     "metadata": {},
     "output_type": "execute_result"
    }
   ],
   "source": [
    "from inspect import getsource, signature\n",
    "sig = signature(func)\n",
    "str(sig)"
   ]
  },
  {
   "cell_type": "code",
   "execution_count": 33,
   "metadata": {},
   "outputs": [
    {
     "ename": "AttributeError",
     "evalue": "'Signature' object has no attribute 'name'",
     "output_type": "error",
     "traceback": [
      "\u001b[0;31m---------------------------------------------------------------------------\u001b[0m",
      "\u001b[0;31mAttributeError\u001b[0m                            Traceback (most recent call last)",
      "Cell \u001b[0;32mIn[33], line 1\u001b[0m\n\u001b[0;32m----> 1\u001b[0m \u001b[43msig\u001b[49m\u001b[38;5;241;43m.\u001b[39;49m\u001b[43mname\u001b[49m\n",
      "\u001b[0;31mAttributeError\u001b[0m: 'Signature' object has no attribute 'name'"
     ]
    }
   ],
   "source": [
    "sig.name"
   ]
  },
  {
   "cell_type": "code",
   "execution_count": 19,
   "metadata": {},
   "outputs": [
    {
     "data": {
      "text/plain": [
       "'<function <lambda> at 0xffff7502a480>'"
      ]
     },
     "execution_count": 19,
     "metadata": {},
     "output_type": "execute_result"
    }
   ],
   "source": [
    "str(lambda x: x ** 2)"
   ]
  },
  {
   "cell_type": "code",
   "execution_count": 29,
   "metadata": {},
   "outputs": [
    {
     "data": {
      "text/plain": [
       "'(x)'"
      ]
     },
     "execution_count": 29,
     "metadata": {},
     "output_type": "execute_result"
    }
   ],
   "source": [
    "from inspect import getsource, signature\n",
    "sig = signature(func)\n",
    "str(sig)"
   ]
  },
  {
   "cell_type": "code",
   "execution_count": 27,
   "metadata": {},
   "outputs": [
    {
     "data": {
      "text/plain": [
       "'asdf = lambda x: x ** 2\\n'"
      ]
     },
     "execution_count": 27,
     "metadata": {},
     "output_type": "execute_result"
    }
   ],
   "source": [
    "asdf = lambda x: x ** 2\n",
    "getsource(asdf)"
   ]
  }
 ],
 "metadata": {
  "kernelspec": {
   "display_name": "Python 3",
   "language": "python",
   "name": "python3"
  },
  "language_info": {
   "codemirror_mode": {
    "name": "ipython",
    "version": 3
   },
   "file_extension": ".py",
   "mimetype": "text/x-python",
   "name": "python",
   "nbconvert_exporter": "python",
   "pygments_lexer": "ipython3",
   "version": "3.11.7"
  }
 },
 "nbformat": 4,
 "nbformat_minor": 2
}
