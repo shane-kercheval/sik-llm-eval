{
 "cells": [
  {
   "cell_type": "code",
   "execution_count": 5,
   "metadata": {},
   "outputs": [],
   "source": [
    "import os\n",
    "from pprint import pprint\n",
    "import requests\n",
    "from dotenv import load_dotenv\n",
    "\n",
    "load_dotenv()\n",
    "\n",
    "headers = {\n",
    "    \"Authorization\": f\"Bearer {os.getenv('HUGGING_FACE_API_KEY')}\",\n",
    "    \"Content-Type\": \"application/json\",\n",
    "}\n",
    "\n",
    "API_URL = 'https://im25ws66yjtcdqvd.us-east-1.aws.endpoints.huggingface.cloud'\n",
    "\n",
    "\n",
    "def query(payload):  # noqa\n",
    "    response = requests.post(API_URL, headers=headers, json=payload)\n",
    "    return response.json()\n",
    "\n",
    "output = query({\n",
    "    \"inputs\": \"<s>[INST] <<SYS>> You are a helpful assistant. You keep your answers short. <</SYS>> What is your favourite condiment? [/INST] My favorite condiment is ketchup. It is versatile, tasty, and goes well with a variety of foods. </s><s>[INST] And what do you think about it? [/INST]\",\n",
    "    \"parameters\": {\"max_new_tokens\": 50},\n",
    "})"
   ]
  },
  {
   "cell_type": "code",
   "execution_count": 6,
   "metadata": {},
   "outputs": [
    {
     "name": "stdout",
     "output_type": "stream",
     "text": [
      "[{'generated_text': \"  I'm just an AI, I don't have personal preferences or \"\n",
      "                    'taste buds, but I can tell you that ketchup is a popular '\n",
      "                    \"condiment that many people enjoy! It's a sweet and tangy \"\n",
      "                    'sau'}]\n"
     ]
    }
   ],
   "source": [
    "pprint(output)"
   ]
  },
  {
   "cell_type": "code",
   "execution_count": null,
   "metadata": {},
   "outputs": [],
   "source": []
  }
 ],
 "metadata": {
  "kernelspec": {
   "display_name": "Python 3",
   "language": "python",
   "name": "python3"
  },
  "language_info": {
   "codemirror_mode": {
    "name": "ipython",
    "version": 3
   },
   "file_extension": ".py",
   "mimetype": "text/x-python",
   "name": "python",
   "nbconvert_exporter": "python",
   "pygments_lexer": "ipython3",
   "version": "3.11.7"
  }
 },
 "nbformat": 4,
 "nbformat_minor": 2
}
