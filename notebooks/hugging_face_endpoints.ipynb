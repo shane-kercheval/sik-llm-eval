{
 "cells": [
  {
   "cell_type": "code",
   "execution_count": 3,
   "metadata": {},
   "outputs": [],
   "source": [
    "import os\n",
    "from llm_evals.llms.hugging_face import HuggingFaceEndpointChat\n",
    "from IPython.display import Markdown, display\n",
    "from llm_evals.llms.message_formatters import mistral_message_formatter\n",
    "from dotenv import load_dotenv\n",
    "load_dotenv()\n",
    "\n",
    "\n",
    "model = HuggingFaceEndpointChat(\n",
    "    endpoint_url=os.getenv('MISTRAL_7B_CHAT_NVIDIA_A10G'),\n",
    "    token_calculator=print,\n",
    "    message_formatter=mistral_message_formatter,\n",
    "    streaming_callback=lambda x: print(x.response, end='||', flush=True),\n",
    "    max_streaming_tokens=2,\n",
    ")"
   ]
  },
  {
   "cell_type": "code",
   "execution_count": null,
   "metadata": {},
   "outputs": [],
   "source": []
  },
  {
   "cell_type": "code",
   "execution_count": 4,
   "metadata": {},
   "outputs": [
    {
     "name": "stdout",
     "output_type": "stream",
     "text": [
      "Hello Sh||ane!|| My name|| is Ass||istant,|| I'||m here|| to help|| you with|| any questions|| or tasks|| you may|| have.|| How can|| I assist|| you today||?||"
     ]
    },
    {
     "data": {
      "text/plain": [
       "\"Hello Shane! My name is Assistant, I'm here to help you with any questions or tasks you may have. How can I assist you today?\""
      ]
     },
     "execution_count": 4,
     "metadata": {},
     "output_type": "execute_result"
    }
   ],
   "source": [
    "model(\"Write a function to mask emails?\")"
   ]
  },
  {
   "cell_type": "code",
   "execution_count": 5,
   "metadata": {},
   "outputs": [
    {
     "data": {
      "text/plain": [
       "91"
      ]
     },
     "execution_count": 5,
     "metadata": {},
     "output_type": "execute_result"
    }
   ],
   "source": [
    "model.total_tokens"
   ]
  },
  {
   "cell_type": "code",
   "execution_count": 6,
   "metadata": {},
   "outputs": [
    {
     "name": "stdout",
     "output_type": "stream",
     "text": [
      "Great||, Sh||ane!|| Your name|| is Sh||ane.||"
     ]
    },
    {
     "data": {
      "text/plain": [
       "'Great, Shane! Your name is Shane.'"
      ]
     },
     "execution_count": 6,
     "metadata": {},
     "output_type": "execute_result"
    }
   ],
   "source": [
    "model(\"What's my name?\")"
   ]
  },
  {
   "cell_type": "markdown",
   "metadata": {},
   "source": [
    "---"
   ]
  },
  {
   "cell_type": "code",
   "execution_count": 7,
   "metadata": {},
   "outputs": [],
   "source": [
    "model = HuggingFaceEndpointChat(\n",
    "    endpoint_url=os.getenv('MISTRAL_7B_CHAT_NVIDIA_A10G'),\n",
    "    streaming_callback=lambda x: print(x.response, end='||', flush=True),\n",
    ")"
   ]
  },
  {
   "cell_type": "code",
   "execution_count": 8,
   "metadata": {},
   "outputs": [
    {
     "name": "stdout",
     "output_type": "stream",
     "text": [
      "Of course! Here is a simple Python function to|| sum two numbers:\n",
      "```\n",
      "def sum(||a, b):\n",
      "    return a + b||\n",
      "```\n",
      "Explanation:\n",
      "\n",
      "*|| The function name is `sum`, which is a|| common name for a function that calculates the sum|| of two numbers.\n",
      "* The function takes two|| arguments, `a` and `b`, which|| are the two numbers to be summed.\n",
      "||* The function returns the sum of `a`|| and `b` using the `+` operator||.\n",
      "\n",
      "Here's an example of how|| you can use the function:\n",
      "```\n",
      "print||(sum(3, 5))  #|| Output: 8\n",
      "```\n",
      "I hope this|| helps! Let me know if you have any questions||.||"
     ]
    },
    {
     "data": {
      "text/markdown": [
       "Of course! Here is a simple Python function to sum two numbers:\n",
       "```\n",
       "def sum(a, b):\n",
       "    return a + b\n",
       "```\n",
       "Explanation:\n",
       "\n",
       "* The function name is `sum`, which is a common name for a function that calculates the sum of two numbers.\n",
       "* The function takes two arguments, `a` and `b`, which are the two numbers to be summed.\n",
       "* The function returns the sum of `a` and `b` using the `+` operator.\n",
       "\n",
       "Here's an example of how you can use the function:\n",
       "```\n",
       "print(sum(3, 5))  # Output: 8\n",
       "```\n",
       "I hope this helps! Let me know if you have any questions."
      ],
      "text/plain": [
       "<IPython.core.display.Markdown object>"
      ]
     },
     "metadata": {},
     "output_type": "display_data"
    }
   ],
   "source": [
    "response = model(\"Write a python function to sum two numbers.\")\n",
    "display(Markdown(response))"
   ]
  },
  {
   "cell_type": "code",
   "execution_count": 9,
   "metadata": {},
   "outputs": [
    {
     "name": "stdout",
     "output_type": "stream",
     "text": [
      "Certainly! Here is the updated function with|| a doc-string and type hints:\n",
      "```||\n",
      "def sum(a: int, b:|| int) -> int:\n",
      "    \"\"\"\n",
      "   || Calculates the sum of two numbers.\n",
      "\n",
      "||    :param a: The first number to be|| summed.\n",
      "    :param b: The|| second number to be summed.\n",
      "    :||return: The sum of a and b.\n",
      "||    \"\"\"\n",
      "    return a + b\n",
      "```||\n",
      "Explanation:\n",
      "\n",
      "* The doc||-string provides a brief description of the function and|| its parameters.\n",
      "* The type hints for the|| function parameters and return value help to specify the data|| types that the function expects and returns.\n",
      "\n",
      "||With this updated function, you can use it like|| this:\n",
      "```\n",
      "print(sum(3||, 5))  # Output: 8||\n",
      "```\n",
      "I hope this helps! Let me|| know if you have any questions.||"
     ]
    },
    {
     "data": {
      "text/markdown": [
       "Certainly! Here is the updated function with a doc-string and type hints:\n",
       "```\n",
       "def sum(a: int, b: int) -> int:\n",
       "    \"\"\"\n",
       "    Calculates the sum of two numbers.\n",
       "\n",
       "    :param a: The first number to be summed.\n",
       "    :param b: The second number to be summed.\n",
       "    :return: The sum of a and b.\n",
       "    \"\"\"\n",
       "    return a + b\n",
       "```\n",
       "Explanation:\n",
       "\n",
       "* The doc-string provides a brief description of the function and its parameters.\n",
       "* The type hints for the function parameters and return value help to specify the data types that the function expects and returns.\n",
       "\n",
       "With this updated function, you can use it like this:\n",
       "```\n",
       "print(sum(3, 5))  # Output: 8\n",
       "```\n",
       "I hope this helps! Let me know if you have any questions."
      ],
      "text/plain": [
       "<IPython.core.display.Markdown object>"
      ]
     },
     "metadata": {},
     "output_type": "display_data"
    }
   ],
   "source": [
    "response = model(\"Update the function to use a doc-string and type hints.\")\n",
    "display(Markdown(response))"
   ]
  },
  {
   "cell_type": "markdown",
   "metadata": {},
   "source": [
    "---"
   ]
  }
 ],
 "metadata": {
  "kernelspec": {
   "display_name": "Python 3",
   "language": "python",
   "name": "python3"
  },
  "language_info": {
   "codemirror_mode": {
    "name": "ipython",
    "version": 3
   },
   "file_extension": ".py",
   "mimetype": "text/x-python",
   "name": "python",
   "nbconvert_exporter": "python",
   "pygments_lexer": "ipython3",
   "version": "3.11.7"
  },
  "orig_nbformat": 4
 },
 "nbformat": 4,
 "nbformat_minor": 2
}
