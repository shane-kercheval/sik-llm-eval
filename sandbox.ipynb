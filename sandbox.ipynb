{
 "cells": [
  {
   "cell_type": "code",
   "execution_count": 15,
   "metadata": {},
   "outputs": [
    {
     "name": "stdout",
     "output_type": "stream",
     "text": [
      "{'description': 'This is an example of an eval. An eval contains a set of '\n",
      "                'prompts and tests.',\n",
      " 'name': 'Eval Example',\n",
      " 'prompts': ['This is a question/prompt.',\n",
      "             'This is a followup prompt.\\n'\n",
      "             'The intent is to evaluate multiple responses in a conversation, '\n",
      "             'rather than a single response.\\n'],\n",
      " 'tests': [{'type': 'match',\n",
      "            'value': 'This is the expected response. It must match exactly.'},\n",
      "           {'file': 'example_test.py',\n",
      "            'function': 'example_test',\n",
      "            'type': 'python'},\n",
      "           {'description': 'This is a python test',\n",
      "            'function': 'def example_test(response: str) -> list[TestResult]:\\n'\n",
      "                        '  return True\\n',\n",
      "            'type': 'python'}],\n",
      " 'uuid': '5f8b1b4e-3b7e-4b0e-8b1b-4e3b7e4b0e8b'}\n",
      "---\n",
      "None\n"
     ]
    }
   ],
   "source": [
    "import yaml\n",
    "from pprint import pprint\n",
    "\n",
    "with open('/code/example_eval.yaml') as f:\n",
    "    example_eval = yaml.safe_load(f)\n",
    "\n",
    "with open('/code/example_result.yaml') as f:\n",
    "    example_result = yaml.safe_load(f)\n",
    "\n",
    "pprint(example_eval)\n",
    "print('---')\n",
    "pprint(example_result)"
   ]
  },
  {
   "cell_type": "code",
   "execution_count": null,
   "metadata": {},
   "outputs": [],
   "source": []
  },
  {
   "cell_type": "code",
   "execution_count": null,
   "metadata": {},
   "outputs": [],
   "source": []
  },
  {
   "cell_type": "code",
   "execution_count": null,
   "metadata": {},
   "outputs": [],
   "source": []
  },
  {
   "cell_type": "code",
   "execution_count": null,
   "metadata": {},
   "outputs": [],
   "source": []
  }
 ],
 "metadata": {
  "kernelspec": {
   "display_name": "Python 3",
   "language": "python",
   "name": "python3"
  },
  "language_info": {
   "codemirror_mode": {
    "name": "ipython",
    "version": 3
   },
   "file_extension": ".py",
   "mimetype": "text/x-python",
   "name": "python",
   "nbconvert_exporter": "python",
   "pygments_lexer": "ipython3",
   "version": "3.11.7"
  }
 },
 "nbformat": 4,
 "nbformat_minor": 2
}
