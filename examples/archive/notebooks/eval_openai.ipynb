{
 "cells": [
  {
   "cell_type": "code",
   "execution_count": 1,
   "metadata": {},
   "outputs": [
    {
     "name": "stderr",
     "output_type": "stream",
     "text": [
      "/usr/local/lib/python3.11/site-packages/tqdm/auto.py:21: TqdmWarning: IProgress not found. Please update jupyter and ipywidgets. See https://ipywidgets.readthedocs.io/en/stable/user_install.html\n",
      "  from .autonotebook import tqdm as notebook_tqdm\n"
     ]
    }
   ],
   "source": [
    "from llm_evals.candidates import Candidate\n",
    "from llm_evals.eval import Eval, EvalHarness, eval_result_summarizer"
   ]
  },
  {
   "cell_type": "code",
   "execution_count": 2,
   "metadata": {},
   "outputs": [
    {
     "data": {
      "text/plain": [
       "{'uuid': '0E454A44-627C-4B56-915B-8DCFE9DF2A55',\n",
       " 'metadata': {'name': 'OpenAI GPT-3.5-Turbo (1106)'},\n",
       " 'model_parameters': {'model_name': 'gpt-3.5-turbo-1106',\n",
       "  'system_message': 'You are a helpful AI assistant.',\n",
       "  'temperature': 1,\n",
       "  'max_tokens': 4096},\n",
       " 'candidate_type': 'OPENAI'}"
      ]
     },
     "execution_count": 2,
     "metadata": {},
     "output_type": "execute_result"
    }
   ],
   "source": [
    "candidate = Candidate.from_yaml('../examples/candidates/openai_3.5_1106.yaml')\n",
    "candidate.to_dict()"
   ]
  },
  {
   "cell_type": "code",
   "execution_count": 3,
   "metadata": {},
   "outputs": [
    {
     "data": {
      "text/plain": [
       "{'test_sequence': [{'prompt': 'Create a python function called `mask_emails` that uses regex to mask all emails. For each email in the format of `x@y.z`, the local part (`x`) should be masked with [MASKED], but the domain (`@y.z`) should be retained. Use type hints and docstrings.',\n",
       "   'ideal_response': 'Certainly! Below is a Python function named `mask_emails` which uses regular expressions (regex) to mask all email addresses in a given string. It replaces the local part of each email with `[MASKED]`, while retaining the domain.\\n\\n```python\\nimport re\\nfrom typing import AnyStr\\n\\ndef mask_emails(text: AnyStr) -> AnyStr:\\n    \"\"\"\\n    Masks all email addresses in the provided text. The local part of each email is replaced with [MASKED],\\n    while the domain is retained.\\n\\n    Args:\\n    text (AnyStr): The string containing email addresses to be masked.\\n\\n    Returns:\\n    AnyStr: The text with email addresses masked.\\n    \"\"\"\\n    # Regular expression to match email addresses\\n    email_regex = r\\'[\\\\w\\\\.-]+@[\\\\w\\\\.-]+\\\\.\\\\w+\\'\\n\\n    # Function to replace the local part of the email with [MASKED]\\n    def mask_email(match: re.Match) -> str:\\n        email = match.group(0)\\n        local, domain = email.split(\\'@\\', 1)\\n        return f\\'[MASKED]@{domain}\\'\\n\\n    # Replace all occurrences of email addresses in the text\\n    return re.sub(email_regex, mask_email, text)\\n\\n# Example usage\\ntext_with_emails = \"Contact us at hello@example.com or support@domain.org for more information.\"\\nmasked_text = mask_emails(text_with_emails)\\nprint(masked_text)\\n```\\n\\nThis function will take a string as input, search for all patterns that match the regex for an email address, and mask each email\\'s local part while keeping the domain part unchanged. The `mask_email` function is a helper function used within `re.sub` to replace each found email address.\\n\\nThe example usage at the end demonstrates how the function can be used on a sample text containing email addresses.\\n',\n",
       "   'checks': [{'value': 're.sub(', 'check_type': 'CONTAINS'},\n",
       "    {'pattern': 'def mask_emails\\\\([a-zA-Z_]+\\\\: str\\\\) -> str\\\\:',\n",
       "     'check_type': 'REGEX'},\n",
       "    {'check_type': 'PYTHON_CODE_BLOCKS_PRESENT'}]},\n",
       "  {'prompt': 'Create a set of assertion statements that test the function.',\n",
       "   'ideal_response': 'To test the `mask_emails` function thoroughly, we can create a set of assertion statements. These assertions will check various scenarios including normal cases, edge cases, and potential failure points. Here\\'s a set of assertions to cover a comprehensive range of test cases:\\n\\n```python\\n# Test with a standard email\\nassert mask_emails(\"user@example.com\") == \"[MASKED]@example.com\", \"Failed to mask standard email\"\\n# Test with multiple emails in a string\\nassert mask_emails(\"Emails: user1@example.com, user2@test.org\") == \"Emails: [MASKED]@example.com, [MASKED]@test.org\", \"Failed to mask multiple emails\"\\n# Test with emails having different domain lengths\\nassert mask_emails(\"user@domain.co.uk\") == \"[MASKED]@domain.co.uk\", \"Failed to mask email with different domain lengths\"\\n# Test with emails having subdomains\\nassert mask_emails(\"user@sub.domain.com\") == \"[MASKED]@sub.domain.com\", \"Failed to mask email with subdomains\"\\n# Test with emails having numeric, hyphen, and underscore characters\\nassert mask_emails(\"user-name_123@example.com\") == \"[MASKED]@example.com\", \"Failed to mask email with numeric, hyphen, and underscore characters\"\\n# Test with no emails in the string\\nassert mask_emails(\"No emails here\") == \"No emails here\", \"Failed when no emails are present\"\\n# Test with an empty string\\nassert mask_emails(\"\") == \"\", \"Failed on empty string\"\\n# Test with a string containing multiple types of emails\\nassert mask_emails(\"Emails: user@example.com, another_user@test.co, yet.another-user@subdomain.domain.net\") == \"Emails: [MASKED]@example.com, [MASKED]@test.co, [MASKED]@subdomain.domain.net\", \"Failed to mask multiple types of emails\"\\n# Print a success message if all assertions pass\\nprint(\"All tests passed successfully.\")\\n```\\n\\nEach assertion checks a different aspect of the email masking function:\\n\\n    Handling of standard email formats.\\n    Correct processing of multiple emails in a single string.\\n    Ability to handle emails with various domain lengths and structures, including subdomains.\\n    Correct handling of emails with numeric, hyphen, underscore, and other allowed characters in the local part.\\n    Proper behavior when no emails are present in the input string.\\n    Handling of an empty string as input.\\n    Masking emails with special characters in the local part.\\n    Dealing with a mix of different types of email formats in a single string.\\n\\nIf any of these assertions fail, it will raise an `AssertionError` with a message indicating which test case failed. If all assertions pass, it prints a success message. This set of tests ensures that the `mask_emails` function behaves as expected in a variety of scenarios.\\n',\n",
       "   'checks': [{'value': 'assert mask_emails(', 'check_type': 'CONTAINS'},\n",
       "    {'check_type': 'PYTHON_CODE_BLOCKS_PRESENT'},\n",
       "    {'code_setup': 'import re\\n',\n",
       "     'functions': [\"def verify_mask_emails_with_no_email_returns_original_string(code_blocks: list[str]) -> bool:\\n    value = 'This is a string with no email addresses'\\n    return mask_emails(value) == value\\n\",\n",
       "      \"def verify_mask_emails_with_single_email_returns_masked_string(code_blocks: list[str]) -> bool:\\n    value = 'This is a string with an email Susie@McSusers.com.'\\n    return mask_emails(value) == 'This is a string with an email [MASKED]@McSusers.com.'\\n\"],\n",
       "     'check_type': 'PYTHON_CODE_BLOCKS_RUN'}]}],\n",
       " 'uuid': '8C297EA8-42B9-4237-9571-5C95A042E3BA',\n",
       " 'version': 1,\n",
       " 'metadata': {'name': 'Python Function to Mask Emails',\n",
       "  'description': 'Creates a python function that uses regex to mask all emails.',\n",
       "  'difficulty': 1,\n",
       "  'tags': ['python', 'regex'],\n",
       "  'source': 'Anaconda. The ideal_responses were generated by ChatGPT 4.0 Turbo.'}}"
      ]
     },
     "execution_count": 3,
     "metadata": {},
     "output_type": "execute_result"
    }
   ],
   "source": [
    "eval_obj = Eval.from_yaml('../evals/evals/mask_emails.yaml')\n",
    "eval_obj.to_dict()"
   ]
  },
  {
   "cell_type": "code",
   "execution_count": 4,
   "metadata": {},
   "outputs": [
    {
     "name": "stdout",
     "output_type": "stream",
     "text": [
      "EvalResult:\n",
      "    # of Prompts Tested:        2\n",
      "    Total Response Time:        17.6 seconds\n",
      "    # of Response Characters:   1,922\n",
      "    # of Code Blocks Generated: 3\n",
      "    Characters per Second:      109.2\n",
      "    # of Checks:                6\n",
      "    # of Successful Checks:     5\n",
      "    % of Successful Checks:     83.3%\n"
     ]
    }
   ],
   "source": [
    "result = eval_obj(candidate)\n",
    "print(result)"
   ]
  },
  {
   "cell_type": "code",
   "execution_count": 5,
   "metadata": {},
   "outputs": [
    {
     "data": {
      "text/plain": [
       "[PassFailResult(value=True, success=True, metadata={'check_type': 'CONTAINS', 'check_value': 're.sub(', 'check_metadata': {}}),\n",
       " PassFailResult(value=True, success=True, metadata={'check_type': 'REGEX', 'check_pattern': 'def mask_emails\\\\([a-zA-Z_]+\\\\: str\\\\) -> str\\\\:', 'check_metadata': {}}),\n",
       " PassFailResult(value=True, success=True, metadata={'check_type': 'PYTHON_CODE_BLOCKS_PRESENT', 'num_code_blocks': 2, 'min_code_blocks': 1, 'code_blocks': ['import re\\n\\ndef mask_emails(text: str) -> str:\\n    \"\"\"\\n    Mask all emails in the input text.\\n\\n    Args:\\n    text (str): The input text containing emails.\\n\\n    Returns:\\n    str: The input text with emails masked.\\n    \"\"\"\\n    email_pattern = r\\'\\\\b[A-Za-z0-9._%+-]+@[A-Za-z0-9.-]+\\\\.[A-Z|a-z]{2,}\\\\b\\'\\n    masked_text = re.sub(email_pattern, \\'[MASKED]@[MASKED]\\', text)\\n    return masked_text', 'sample_text = \"Contact us at support@example.com or sales@company.com\"\\nmasked_text = mask_emails(sample_text)\\nprint(masked_text)  # Output: \"Contact us at [MASKED]@[MASKED] or [MASKED]@[MASKED]\"', '# Test case 1: No email in the text\\ntext_no_email = \"This is a sample text without any email\"\\nassert mask_emails(text_no_email) == text_no_email\\n\\n# Test case 2: Single email in the text\\ntext_single_email = \"Please contact me at user@example.com\"\\nassert mask_emails(text_single_email) == \"Please contact me at [MASKED]@[MASKED]\"\\n\\n# Test case 3: Multiple emails in the text\\ntext_multiple_emails = \"Email me at abc@example.com or xyz@domain.com\"\\nassert mask_emails(text_multiple_emails) == \"Email me at [MASKED]@[MASKED] or [MASKED]@[MASKED]\"']}),\n",
       " PassFailResult(value=True, success=True, metadata={'check_type': 'CONTAINS', 'check_value': 'assert mask_emails(', 'check_metadata': {}}),\n",
       " PassFailResult(value=True, success=True, metadata={'check_type': 'PYTHON_CODE_BLOCKS_PRESENT', 'num_code_blocks': 3, 'min_code_blocks': 1, 'code_blocks': ['import re\\n\\ndef mask_emails(text: str) -> str:\\n    \"\"\"\\n    Mask all emails in the input text.\\n\\n    Args:\\n    text (str): The input text containing emails.\\n\\n    Returns:\\n    str: The input text with emails masked.\\n    \"\"\"\\n    email_pattern = r\\'\\\\b[A-Za-z0-9._%+-]+@[A-Za-z0-9.-]+\\\\.[A-Z|a-z]{2,}\\\\b\\'\\n    masked_text = re.sub(email_pattern, \\'[MASKED]@[MASKED]\\', text)\\n    return masked_text', 'sample_text = \"Contact us at support@example.com or sales@company.com\"\\nmasked_text = mask_emails(sample_text)\\nprint(masked_text)  # Output: \"Contact us at [MASKED]@[MASKED] or [MASKED]@[MASKED]\"', '# Test case 1: No email in the text\\ntext_no_email = \"This is a sample text without any email\"\\nassert mask_emails(text_no_email) == text_no_email\\n\\n# Test case 2: Single email in the text\\ntext_single_email = \"Please contact me at user@example.com\"\\nassert mask_emails(text_single_email) == \"Please contact me at [MASKED]@[MASKED]\"\\n\\n# Test case 3: Multiple emails in the text\\ntext_multiple_emails = \"Email me at abc@example.com or xyz@domain.com\"\\nassert mask_emails(text_multiple_emails) == \"Email me at [MASKED]@[MASKED] or [MASKED]@[MASKED]\"']}),\n",
       " ScoreResult(value=0.8, success=False, metadata={'check_type': 'PYTHON_CODE_BLOCKS_RUN', 'num_code_blocks': 3, 'num_code_blocks_successful': 3, 'code_blocks': ['import re\\n\\ndef mask_emails(text: str) -> str:\\n    \"\"\"\\n    Mask all emails in the input text.\\n\\n    Args:\\n    text (str): The input text containing emails.\\n\\n    Returns:\\n    str: The input text with emails masked.\\n    \"\"\"\\n    email_pattern = r\\'\\\\b[A-Za-z0-9._%+-]+@[A-Za-z0-9.-]+\\\\.[A-Z|a-z]{2,}\\\\b\\'\\n    masked_text = re.sub(email_pattern, \\'[MASKED]@[MASKED]\\', text)\\n    return masked_text', 'sample_text = \"Contact us at support@example.com or sales@company.com\"\\nmasked_text = mask_emails(sample_text)\\nprint(masked_text)  # Output: \"Contact us at [MASKED]@[MASKED] or [MASKED]@[MASKED]\"', '# Test case 1: No email in the text\\ntext_no_email = \"This is a sample text without any email\"\\nassert mask_emails(text_no_email) == text_no_email\\n\\n# Test case 2: Single email in the text\\ntext_single_email = \"Please contact me at user@example.com\"\\nassert mask_emails(text_single_email) == \"Please contact me at [MASKED]@[MASKED]\"\\n\\n# Test case 3: Multiple emails in the text\\ntext_multiple_emails = \"Email me at abc@example.com or xyz@domain.com\"\\nassert mask_emails(text_multiple_emails) == \"Email me at [MASKED]@[MASKED] or [MASKED]@[MASKED]\"'], 'code_block_errors': [None, None, None], 'num_code_block_checks': 2, 'num_code_block_checks_successful': 1, 'code_block_check_results': [True, False], 'code_block_check_errors': [None, None]}, success_threshold=1.0)]"
      ]
     },
     "execution_count": 5,
     "metadata": {},
     "output_type": "execute_result"
    }
   ],
   "source": [
    "result.all_checks_results"
   ]
  },
  {
   "cell_type": "code",
   "execution_count": 6,
   "metadata": {},
   "outputs": [
    {
     "data": {
      "text/plain": [
       "{'check_type': 'PYTHON_CODE_BLOCKS_RUN',\n",
       " 'num_code_blocks': 3,\n",
       " 'num_code_blocks_successful': 3,\n",
       " 'code_blocks': ['import re\\n\\ndef mask_emails(text: str) -> str:\\n    \"\"\"\\n    Mask all emails in the input text.\\n\\n    Args:\\n    text (str): The input text containing emails.\\n\\n    Returns:\\n    str: The input text with emails masked.\\n    \"\"\"\\n    email_pattern = r\\'\\\\b[A-Za-z0-9._%+-]+@[A-Za-z0-9.-]+\\\\.[A-Z|a-z]{2,}\\\\b\\'\\n    masked_text = re.sub(email_pattern, \\'[MASKED]@[MASKED]\\', text)\\n    return masked_text',\n",
       "  'sample_text = \"Contact us at support@example.com or sales@company.com\"\\nmasked_text = mask_emails(sample_text)\\nprint(masked_text)  # Output: \"Contact us at [MASKED]@[MASKED] or [MASKED]@[MASKED]\"',\n",
       "  '# Test case 1: No email in the text\\ntext_no_email = \"This is a sample text without any email\"\\nassert mask_emails(text_no_email) == text_no_email\\n\\n# Test case 2: Single email in the text\\ntext_single_email = \"Please contact me at user@example.com\"\\nassert mask_emails(text_single_email) == \"Please contact me at [MASKED]@[MASKED]\"\\n\\n# Test case 3: Multiple emails in the text\\ntext_multiple_emails = \"Email me at abc@example.com or xyz@domain.com\"\\nassert mask_emails(text_multiple_emails) == \"Email me at [MASKED]@[MASKED] or [MASKED]@[MASKED]\"'],\n",
       " 'code_block_errors': [None, None, None],\n",
       " 'num_code_block_checks': 2,\n",
       " 'num_code_block_checks_successful': 1,\n",
       " 'code_block_check_results': [True, False],\n",
       " 'code_block_check_errors': [None, None]}"
      ]
     },
     "execution_count": 6,
     "metadata": {},
     "output_type": "execute_result"
    }
   ],
   "source": [
    "result.all_checks_results[-1].metadata"
   ]
  },
  {
   "cell_type": "code",
   "execution_count": 7,
   "metadata": {},
   "outputs": [
    {
     "data": {
      "text/plain": [
       "{'eval_uuid': '8C297EA8-42B9-4237-9571-5C95A042E3BA',\n",
       " 'candidate_uuid': '0E454A44-627C-4B56-915B-8DCFE9DF2A55',\n",
       " 'num_prompts': 2,\n",
       " 'response_characters': 1922,\n",
       " 'total_time_seconds': 17.599684953689575,\n",
       " 'characters_per_second': 109.20649408503078,\n",
       " 'num_checks': 6,\n",
       " 'num_successful_checks': 5,\n",
       " 'perc_successful_checks': 0.8333333333333334,\n",
       " 'num_code_blocks': 3,\n",
       " 'num_code_blocks_successful': 3,\n",
       " 'perc_code_blocks_successful': 1.0,\n",
       " 'num_code_block_checks': 2,\n",
       " 'num_code_block_checks_successful': 1}"
      ]
     },
     "execution_count": 7,
     "metadata": {},
     "output_type": "execute_result"
    }
   ],
   "source": [
    "eval_result_summarizer(result)"
   ]
  },
  {
   "cell_type": "markdown",
   "metadata": {},
   "source": [
    "---"
   ]
  },
  {
   "cell_type": "code",
   "execution_count": 1,
   "metadata": {},
   "outputs": [
    {
     "name": "stderr",
     "output_type": "stream",
     "text": [
      "/usr/local/lib/python3.11/site-packages/tqdm/auto.py:21: TqdmWarning: IProgress not found. Please update jupyter and ipywidgets. See https://ipywidgets.readthedocs.io/en/stable/user_install.html\n",
      "  from .autonotebook import tqdm as notebook_tqdm\n"
     ]
    },
    {
     "ename": "RuntimeError",
     "evalue": "This event loop is already running",
     "output_type": "error",
     "traceback": [
      "\u001b[0;31m---------------------------------------------------------------------------\u001b[0m",
      "\u001b[0;31m_RemoteTraceback\u001b[0m                          Traceback (most recent call last)",
      "\u001b[0;31m_RemoteTraceback\u001b[0m: \n\"\"\"\nTraceback (most recent call last):\n  File \"/usr/local/lib/python3.11/concurrent/futures/process.py\", line 261, in _process_worker\n    r = call_item.fn(*call_item.args, **call_item.kwargs)\n        ^^^^^^^^^^^^^^^^^^^^^^^^^^^^^^^^^^^^^^^^^^^^^^^^^\n  File \"/usr/local/lib/python3.11/concurrent/futures/process.py\", line 210, in _process_chunk\n    return [fn(*args) for args in chunk]\n           ^^^^^^^^^^^^^^^^^^^^^^^^^^^^^\n  File \"/usr/local/lib/python3.11/concurrent/futures/process.py\", line 210, in <listcomp>\n    return [fn(*args) for args in chunk]\n            ^^^^^^^^^\n  File \"/code/llm_evals/eval.py\", line 655, in _run_evals\n    candidate_evals = list(loop.run_until_complete(asyncio.gather(*tasks)))\n                           ^^^^^^^^^^^^^^^^^^^^^^^^^^^^^^^^^^^^^^^^^^^^^^^\n  File \"/usr/local/lib/python3.11/asyncio/base_events.py\", line 629, in run_until_complete\n    self._check_running()\n  File \"/usr/local/lib/python3.11/asyncio/base_events.py\", line 588, in _check_running\n    raise RuntimeError('This event loop is already running')\nRuntimeError: This event loop is already running\n\"\"\"",
      "\nThe above exception was the direct cause of the following exception:\n",
      "\u001b[0;31mRuntimeError\u001b[0m                              Traceback (most recent call last)",
      "Cell \u001b[0;32mIn[1], line 8\u001b[0m\n\u001b[1;32m      6\u001b[0m eval_harness\u001b[38;5;241m.\u001b[39madd_candidate_from_yaml(\u001b[38;5;124m'\u001b[39m\u001b[38;5;124m../examples/candidates/openai_3.5_1106.yaml\u001b[39m\u001b[38;5;124m'\u001b[39m)\n\u001b[1;32m      7\u001b[0m eval_harness\u001b[38;5;241m.\u001b[39madd_candidate_from_yaml(\u001b[38;5;124m'\u001b[39m\u001b[38;5;124m../examples/candidates/openai_4.0_1106.yaml\u001b[39m\u001b[38;5;124m'\u001b[39m)\n\u001b[0;32m----> 8\u001b[0m results \u001b[38;5;241m=\u001b[39m \u001b[43meval_harness\u001b[49m\u001b[43m(\u001b[49m\u001b[43m)\u001b[49m\n",
      "File \u001b[0;32m/code/llm_evals/eval.py:698\u001b[0m, in \u001b[0;36mEvalHarness.__call__\u001b[0;34m(self)\u001b[0m\n\u001b[1;32m    696\u001b[0m eval_list \u001b[38;5;241m=\u001b[39m [\u001b[38;5;28mself\u001b[39m\u001b[38;5;241m.\u001b[39mevals \u001b[38;5;28;01mfor\u001b[39;00m _ \u001b[38;5;129;01min\u001b[39;00m \u001b[38;5;28mself\u001b[39m\u001b[38;5;241m.\u001b[39mcandidates]\n\u001b[1;32m    697\u001b[0m \u001b[38;5;28;01mwith\u001b[39;00m ProcessPoolExecutor(max_workers\u001b[38;5;241m=\u001b[39m\u001b[38;5;28;01mNone\u001b[39;00m) \u001b[38;5;28;01mas\u001b[39;00m executor:\n\u001b[0;32m--> 698\u001b[0m     \u001b[38;5;28;01mreturn\u001b[39;00m \u001b[38;5;28;43mlist\u001b[39;49m\u001b[43m(\u001b[49m\u001b[43mexecutor\u001b[49m\u001b[38;5;241;43m.\u001b[39;49m\u001b[43mmap\u001b[49m\u001b[43m(\u001b[49m\u001b[43mEvalHarness\u001b[49m\u001b[38;5;241;43m.\u001b[39;49m\u001b[43m_run_evals\u001b[49m\u001b[43m,\u001b[49m\u001b[43m \u001b[49m\u001b[38;5;28;43mself\u001b[39;49m\u001b[38;5;241;43m.\u001b[39;49m\u001b[43mcandidates\u001b[49m\u001b[43m,\u001b[49m\u001b[43m \u001b[49m\u001b[43meval_list\u001b[49m\u001b[43m)\u001b[49m\u001b[43m)\u001b[49m\n",
      "File \u001b[0;32m/usr/local/lib/python3.11/concurrent/futures/process.py:620\u001b[0m, in \u001b[0;36m_chain_from_iterable_of_lists\u001b[0;34m(iterable)\u001b[0m\n\u001b[1;32m    614\u001b[0m \u001b[38;5;28;01mdef\u001b[39;00m \u001b[38;5;21m_chain_from_iterable_of_lists\u001b[39m(iterable):\n\u001b[1;32m    615\u001b[0m \u001b[38;5;250m    \u001b[39m\u001b[38;5;124;03m\"\"\"\u001b[39;00m\n\u001b[1;32m    616\u001b[0m \u001b[38;5;124;03m    Specialized implementation of itertools.chain.from_iterable.\u001b[39;00m\n\u001b[1;32m    617\u001b[0m \u001b[38;5;124;03m    Each item in *iterable* should be a list.  This function is\u001b[39;00m\n\u001b[1;32m    618\u001b[0m \u001b[38;5;124;03m    careful not to keep references to yielded objects.\u001b[39;00m\n\u001b[1;32m    619\u001b[0m \u001b[38;5;124;03m    \"\"\"\u001b[39;00m\n\u001b[0;32m--> 620\u001b[0m \u001b[43m    \u001b[49m\u001b[38;5;28;43;01mfor\u001b[39;49;00m\u001b[43m \u001b[49m\u001b[43melement\u001b[49m\u001b[43m \u001b[49m\u001b[38;5;129;43;01min\u001b[39;49;00m\u001b[43m \u001b[49m\u001b[43miterable\u001b[49m\u001b[43m:\u001b[49m\n\u001b[1;32m    621\u001b[0m \u001b[43m        \u001b[49m\u001b[43melement\u001b[49m\u001b[38;5;241;43m.\u001b[39;49m\u001b[43mreverse\u001b[49m\u001b[43m(\u001b[49m\u001b[43m)\u001b[49m\n\u001b[1;32m    622\u001b[0m \u001b[43m        \u001b[49m\u001b[38;5;28;43;01mwhile\u001b[39;49;00m\u001b[43m \u001b[49m\u001b[43melement\u001b[49m\u001b[43m:\u001b[49m\n",
      "File \u001b[0;32m/usr/local/lib/python3.11/concurrent/futures/_base.py:619\u001b[0m, in \u001b[0;36mExecutor.map.<locals>.result_iterator\u001b[0;34m()\u001b[0m\n\u001b[1;32m    616\u001b[0m \u001b[38;5;28;01mwhile\u001b[39;00m fs:\n\u001b[1;32m    617\u001b[0m     \u001b[38;5;66;03m# Careful not to keep a reference to the popped future\u001b[39;00m\n\u001b[1;32m    618\u001b[0m     \u001b[38;5;28;01mif\u001b[39;00m timeout \u001b[38;5;129;01mis\u001b[39;00m \u001b[38;5;28;01mNone\u001b[39;00m:\n\u001b[0;32m--> 619\u001b[0m         \u001b[38;5;28;01myield\u001b[39;00m \u001b[43m_result_or_cancel\u001b[49m\u001b[43m(\u001b[49m\u001b[43mfs\u001b[49m\u001b[38;5;241;43m.\u001b[39;49m\u001b[43mpop\u001b[49m\u001b[43m(\u001b[49m\u001b[43m)\u001b[49m\u001b[43m)\u001b[49m\n\u001b[1;32m    620\u001b[0m     \u001b[38;5;28;01melse\u001b[39;00m:\n\u001b[1;32m    621\u001b[0m         \u001b[38;5;28;01myield\u001b[39;00m _result_or_cancel(fs\u001b[38;5;241m.\u001b[39mpop(), end_time \u001b[38;5;241m-\u001b[39m time\u001b[38;5;241m.\u001b[39mmonotonic())\n",
      "File \u001b[0;32m/usr/local/lib/python3.11/concurrent/futures/_base.py:317\u001b[0m, in \u001b[0;36m_result_or_cancel\u001b[0;34m(***failed resolving arguments***)\u001b[0m\n\u001b[1;32m    315\u001b[0m \u001b[38;5;28;01mtry\u001b[39;00m:\n\u001b[1;32m    316\u001b[0m     \u001b[38;5;28;01mtry\u001b[39;00m:\n\u001b[0;32m--> 317\u001b[0m         \u001b[38;5;28;01mreturn\u001b[39;00m \u001b[43mfut\u001b[49m\u001b[38;5;241;43m.\u001b[39;49m\u001b[43mresult\u001b[49m\u001b[43m(\u001b[49m\u001b[43mtimeout\u001b[49m\u001b[43m)\u001b[49m\n\u001b[1;32m    318\u001b[0m     \u001b[38;5;28;01mfinally\u001b[39;00m:\n\u001b[1;32m    319\u001b[0m         fut\u001b[38;5;241m.\u001b[39mcancel()\n",
      "File \u001b[0;32m/usr/local/lib/python3.11/concurrent/futures/_base.py:456\u001b[0m, in \u001b[0;36mFuture.result\u001b[0;34m(self, timeout)\u001b[0m\n\u001b[1;32m    454\u001b[0m     \u001b[38;5;28;01mraise\u001b[39;00m CancelledError()\n\u001b[1;32m    455\u001b[0m \u001b[38;5;28;01melif\u001b[39;00m \u001b[38;5;28mself\u001b[39m\u001b[38;5;241m.\u001b[39m_state \u001b[38;5;241m==\u001b[39m FINISHED:\n\u001b[0;32m--> 456\u001b[0m     \u001b[38;5;28;01mreturn\u001b[39;00m \u001b[38;5;28;43mself\u001b[39;49m\u001b[38;5;241;43m.\u001b[39;49m\u001b[43m__get_result\u001b[49m\u001b[43m(\u001b[49m\u001b[43m)\u001b[49m\n\u001b[1;32m    457\u001b[0m \u001b[38;5;28;01melse\u001b[39;00m:\n\u001b[1;32m    458\u001b[0m     \u001b[38;5;28;01mraise\u001b[39;00m \u001b[38;5;167;01mTimeoutError\u001b[39;00m()\n",
      "File \u001b[0;32m/usr/local/lib/python3.11/concurrent/futures/_base.py:401\u001b[0m, in \u001b[0;36mFuture.__get_result\u001b[0;34m(self)\u001b[0m\n\u001b[1;32m    399\u001b[0m \u001b[38;5;28;01mif\u001b[39;00m \u001b[38;5;28mself\u001b[39m\u001b[38;5;241m.\u001b[39m_exception:\n\u001b[1;32m    400\u001b[0m     \u001b[38;5;28;01mtry\u001b[39;00m:\n\u001b[0;32m--> 401\u001b[0m         \u001b[38;5;28;01mraise\u001b[39;00m \u001b[38;5;28mself\u001b[39m\u001b[38;5;241m.\u001b[39m_exception\n\u001b[1;32m    402\u001b[0m     \u001b[38;5;28;01mfinally\u001b[39;00m:\n\u001b[1;32m    403\u001b[0m         \u001b[38;5;66;03m# Break a reference cycle with the exception in self._exception\u001b[39;00m\n\u001b[1;32m    404\u001b[0m         \u001b[38;5;28mself\u001b[39m \u001b[38;5;241m=\u001b[39m \u001b[38;5;28;01mNone\u001b[39;00m\n",
      "\u001b[0;31mRuntimeError\u001b[0m: This event loop is already running"
     ]
    }
   ],
   "source": [
    "from llm_evals.candidates import Candidate\n",
    "from llm_evals.eval import Eval, EvalHarness, eval_result_summarizer\n",
    "\n",
    "eval_harness = EvalHarness()\n",
    "eval_harness.add_eval_from_yaml('../evals/evals/mask_emails.yaml')\n",
    "eval_harness.add_candidate_from_yaml('../examples/candidates/openai_3.5_1106.yaml')\n",
    "eval_harness.add_candidate_from_yaml('../examples/candidates/openai_4.0_1106.yaml')\n",
    "results = eval_harness()"
   ]
  },
  {
   "cell_type": "code",
   "execution_count": null,
   "metadata": {},
   "outputs": [],
   "source": [
    "print(results[0][0])\n",
    "eval_result_summarizer(results[0][0])"
   ]
  },
  {
   "cell_type": "code",
   "execution_count": null,
   "metadata": {},
   "outputs": [],
   "source": [
    "print(results[1][0])\n",
    "eval_result_summarizer(results[1][0])"
   ]
  },
  {
   "cell_type": "code",
   "execution_count": null,
   "metadata": {},
   "outputs": [],
   "source": []
  },
  {
   "cell_type": "code",
   "execution_count": null,
   "metadata": {},
   "outputs": [],
   "source": [
    "from llm_evals.checks import CheckType\n",
    "\n",
    "result = results[1][0]\n",
    "code_run_checks = [\n",
    "    r for r in result.all_checks_results\n",
    "    if r.metadata.get('check_type', '') == CheckType.PYTHON_CODE_BLOCKS_RUN.name\n",
    "]\n",
    "sum(c.metadata['num_code_block_checks'] for c in code_run_checks)\n",
    "sum(c.metadata['num_code_block_checks_successful'] for c in code_run_checks)"
   ]
  },
  {
   "cell_type": "code",
   "execution_count": null,
   "metadata": {},
   "outputs": [],
   "source": [
    "code_run_checks[0].metadata\n"
   ]
  },
  {
   "cell_type": "code",
   "execution_count": null,
   "metadata": {},
   "outputs": [],
   "source": []
  },
  {
   "cell_type": "code",
   "execution_count": null,
   "metadata": {},
   "outputs": [],
   "source": [
    "results[0][0].all_checks_results"
   ]
  },
  {
   "cell_type": "code",
   "execution_count": null,
   "metadata": {},
   "outputs": [],
   "source": [
    "from IPython.display import Markdown\n",
    "Markdown(results[0][0].responses[0])"
   ]
  },
  {
   "cell_type": "code",
   "execution_count": null,
   "metadata": {},
   "outputs": [],
   "source": [
    "results[0][0].prompts[0]"
   ]
  },
  {
   "cell_type": "code",
   "execution_count": null,
   "metadata": {},
   "outputs": [],
   "source": [
    "results[0][0].candidate_obj.to_dict()"
   ]
  },
  {
   "cell_type": "markdown",
   "metadata": {},
   "source": [
    "---"
   ]
  },
  {
   "cell_type": "code",
   "execution_count": null,
   "metadata": {},
   "outputs": [],
   "source": [
    "from IPython.display import Markdown\n",
    "Markdown(results[0][0].responses[0])"
   ]
  },
  {
   "cell_type": "code",
   "execution_count": null,
   "metadata": {},
   "outputs": [],
   "source": []
  },
  {
   "cell_type": "code",
   "execution_count": null,
   "metadata": {},
   "outputs": [],
   "source": [
    "Markdown(results[0][0].responses[1])"
   ]
  },
  {
   "cell_type": "code",
   "execution_count": null,
   "metadata": {},
   "outputs": [],
   "source": []
  },
  {
   "cell_type": "code",
   "execution_count": null,
   "metadata": {},
   "outputs": [],
   "source": []
  },
  {
   "cell_type": "code",
   "execution_count": null,
   "metadata": {},
   "outputs": [],
   "source": [
    "import re\n",
    "def mask_emails(text: str) -> str:\n",
    "    \"\"\"\n",
    "    Masks all email addresses in a given text. The local part of each email is replaced with [MASKED],\n",
    "    while the domain part is retained.\n",
    "\n",
    "    Parameters:\n",
    "    text (str): The text containing email addresses to be masked.\n",
    "\n",
    "    Returns:\n",
    "    str: The text with all email addresses masked.\n",
    "    \"\"\"\n",
    "    # Define the email regex pattern\n",
    "    email_pattern = r'(\\b[A-Za-z0-9._%+-]+)@([A-Za-z0-9.-]+\\.[A-Z|a-z]{2,}\\b)'\n",
    "    \n",
    "    # Define the function to replace the local part with [MASKED]\n",
    "    def mask_match(match: re.Match) -> str:\n",
    "        return f\"[MASKED]@{match.group(2)}\"\n",
    "    \n",
    "    # Use re.sub() to replace all occurrences of the email pattern\n",
    "    masked_text = re.sub(email_pattern, mask_match, text)\n",
    "    \n",
    "    return masked_text\n",
    "\n",
    "value = 'This is a string with an email Susie@McSusers.com.'\n",
    "print(mask_emails(value))\n",
    "mask_emails(value) == 'This is a string with an email [MASKED]@McSusers.com.'"
   ]
  },
  {
   "cell_type": "code",
   "execution_count": null,
   "metadata": {},
   "outputs": [],
   "source": [
    "# Test with a standard email\n",
    "assert mask_emails(\"user@example.com\") == \"[MASKED]@example.com\", \"Failed to mask standard email\"\n",
    "# Test with multiple emails in a string\n",
    "assert mask_emails(\"Emails: user1@example.com, user2@test.org\") == \"Emails: [MASKED]@example.com, [MASKED]@test.org\", \"Failed to mask multiple emails\"\n",
    "# Test with emails having different domain lengths\n",
    "assert mask_emails(\"user@domain.co.uk\") == \"[MASKED]@domain.co.uk\", \"Failed to mask email with different domain lengths\"\n",
    "# Test with emails having subdomains\n",
    "assert mask_emails(\"user@sub.domain.com\") == \"[MASKED]@sub.domain.com\", \"Failed to mask email with subdomains\"\n",
    "# Test with emails having numeric, hyphen, and underscore characters\n",
    "assert mask_emails(\"user-name_123@example.com\") == \"[MASKED]@example.com\", \"Failed to mask email with numeric, hyphen, and underscore characters\"\n",
    "# Test with no emails in the string\n",
    "assert mask_emails(\"No emails here\") == \"No emails here\", \"Failed when no emails are present\"\n",
    "# Test with an empty string\n",
    "assert mask_emails(\"\") == \"\", \"Failed on empty string\"\n",
    "# Test with a string containing multiple types of emails\n",
    "assert mask_emails(\"Emails: user@example.com, another_user@test.co, yet.another-user@subdomain.domain.net\") == \"Emails: [MASKED]@example.com, [MASKED]@test.co, [MASKED]@subdomain.domain.net\", \"Failed to mask multiple types of emails\"\n",
    "# Print a success message if all assertions pass\n",
    "print(\"All tests passed successfully.\")"
   ]
  },
  {
   "cell_type": "code",
   "execution_count": null,
   "metadata": {},
   "outputs": [],
   "source": []
  },
  {
   "cell_type": "code",
   "execution_count": null,
   "metadata": {},
   "outputs": [],
   "source": []
  },
  {
   "cell_type": "code",
   "execution_count": null,
   "metadata": {},
   "outputs": [],
   "source": [
    "mask_emails(\"Invalid email: user.@example.com\")"
   ]
  },
  {
   "cell_type": "code",
   "execution_count": null,
   "metadata": {},
   "outputs": [],
   "source": [
    "def verify_mask_emails_with_single_email_returns_masked_string(code_blocks: list[str]) -> bool:\n",
    "    value = 'This is a string with an email Susie@McSusers.com.'\n",
    "    return mask_emails(value) == 'This is a string with an email [MASKED]@McSusers.com.'\n",
    "\n",
    "verify_mask_emails_with_single_email_returns_masked_string([])"
   ]
  },
  {
   "cell_type": "code",
   "execution_count": null,
   "metadata": {},
   "outputs": [],
   "source": [
    "def verify_mask_emails_with_no_email_returns_original_string(code_blocks: list[str]) -> bool:\n",
    "    value = 'This is a string with no email addresses'\n",
    "    return mask_emails(value) == value\n",
    "\n",
    "verify_mask_emails_with_no_email_returns_original_string([])"
   ]
  },
  {
   "cell_type": "code",
   "execution_count": null,
   "metadata": {},
   "outputs": [],
   "source": []
  },
  {
   "cell_type": "code",
   "execution_count": null,
   "metadata": {},
   "outputs": [],
   "source": []
  },
  {
   "cell_type": "code",
   "execution_count": null,
   "metadata": {},
   "outputs": [],
   "source": []
  },
  {
   "cell_type": "code",
   "execution_count": null,
   "metadata": {},
   "outputs": [],
   "source": []
  },
  {
   "cell_type": "code",
   "execution_count": 1,
   "metadata": {},
   "outputs": [
    {
     "name": "stdout",
     "output_type": "stream",
     "text": [
      "Total time: 10.436228513717651\n"
     ]
    },
    {
     "data": {
      "text/plain": [
       "'Certainly! Below is the `mask_emails` function in Python using regex to mask all emails:\\n\\n```python\\nimport re\\n\\ndef mask_emails(text: str) -> str:\\n    \"\"\"\\n    Mask all emails in the given text.\\n\\n    Args:\\n    - text: The input text containing emails to be masked.\\n\\n    Returns:\\n    - The text with masked emails.\\n\\n    Example:\\n    >>> mask_emails(\"Please contact me at test@example.com for more information.\")\\n    \\'Please contact me at [MASKED]@example.com for more information.\\'\\n    \"\"\"\\n    email_regex = r\\'\\\\b[A-Za-z0-9._%+-]+@[A-Za-z0-9.-]+\\\\.[A-Z|a-z]{2,}\\\\b\\'\\n    masked_text = re.sub(email_regex, \\'[MASKED]@\\', text)\\n    return masked_text\\n```\\n\\nYou can use the `mask_emails` function to mask emails in a given text by passing the input text as an argument. The function will return the text with masked emails.'"
      ]
     },
     "execution_count": 1,
     "metadata": {},
     "output_type": "execute_result"
    }
   ],
   "source": [
    "from llm_evals.llms.openai import OpenAIChat\n",
    "prompt = \"Create a python function called `mask_emails` that uses regex to mask all emails. For each email in the format of `x@y.z`, the local part (`x`) should be masked with [MASKED], but the domain (`@y.z`) should be retained. Use type hints and docstrings.\"\n",
    "# chat = OpenAIChat(model_name='gpt-4-1106-preview')#, streaming_callback=lambda x: print(x.response, end='', flush=True))\n",
    "chat = OpenAIChat()\n",
    "chat(prompt=prompt)"
   ]
  },
  {
   "cell_type": "code",
   "execution_count": 6,
   "metadata": {},
   "outputs": [
    {
     "name": "stdout",
     "output_type": "stream",
     "text": [
      "Total time: 11.834637880325317\n",
      "11.87 seconds\n"
     ]
    }
   ],
   "source": [
    "from llm_evals.llms.openai import OpenAIChat\n",
    "prompt = \"Create a python function called `mask_emails` that uses regex to mask all emails. For each email in the format of `x@y.z`, the local part (`x`) should be masked with [MASKED], but the domain (`@y.z`) should be retained. Use type hints and docstrings.\"\n",
    "# chat = OpenAIChat(model_name='gpt-4-1106-preview')#, streaming_callback=lambda x: print(x.response, end='', flush=True))\n",
    "chat = OpenAIChat()\n",
    "import time\n",
    "start = time.time()\n",
    "chat(prompt=prompt)\n",
    "end = time.time()\n",
    "print(f\"{end - start:.2f} seconds\")"
   ]
  },
  {
   "cell_type": "code",
   "execution_count": 9,
   "metadata": {},
   "outputs": [
    {
     "name": "stdout",
     "output_type": "stream",
     "text": [
      "To test the `mask_emails` function, you can write assertion statements that check if the function works correctly for various test cases. Below are some example assertion tests you can use:\n",
      "\n",
      "```python\n",
      "# Test cases\n",
      "assert mask_emails('Contact me at simple@example.com for details.') == 'Contact me at [MASKED]@example.com for details.', \"Simple email test failed\"\n",
      "assert mask_emails('Emails like user.name+tag+sorting@example.com are complicated!') == 'Emails like [MASKED]@example.com are complicated!', \"Tagged email test failed\"\n",
      "assert mask_emails('Embedded emails are tricky: my.email@is.here.co and here as well: another_email123@example.io') == 'Embedded emails are tricky: [MASKED]@is.here.co and here as well: [MASKED]@example.io', \"Embedded emails test failed\"\n",
      "assert mask_emails('Nothing to replace in this string.') == 'Nothing to replace in this string.', \"No email test failed\"\n",
      "assert mask_emails('') == '', \"Empty string test failed\"\n",
      "assert mask_emails('Just a domain@ without a local part is not an email.') == 'Just a domain@ without a local part is not an email.', \"Fake email test failed\"\n",
      "assert mask_emails('Also ignore emails without a domain like @example.') == 'Also ignore emails without a domain like @example.', \"Partial email test failed\"\n",
      "assert mask_emails('my.email@gmail.com another.email@hotmail.co.uk') == '[MASKED]@gmail.com [MASKED]@hotmail.co.uk', \"Multiple emails test failed\"\n",
      "assert mask_emails('Special chars email test: special+chars_here@foo-bar.baz.com') == 'Special chars email test: [MASKED]@foo-bar.baz.com', \"Special chars in email test failed\"\n",
      "\n",
      "print(\"All tests passed!\")\n",
      "```\n",
      "\n",
      "When you run this code after defining the `mask_emails` function, all the assertions should pass if the function is implemented correctly. If any assertion fails, it means that the function does not work as expected for the test case associated with the failing assertion, indicating that you need to revise the function code. Remember that assertion statements are used to check for conditions that must be met, and if the condition is not met, an `AssertionError` will be raised."
     ]
    },
    {
     "data": {
      "text/plain": [
       "'To test the `mask_emails` function, you can write assertion statements that check if the function works correctly for various test cases. Below are some example assertion tests you can use:\\n\\n```python\\n# Test cases\\nassert mask_emails(\\'Contact me at simple@example.com for details.\\') == \\'Contact me at [MASKED]@example.com for details.\\', \"Simple email test failed\"\\nassert mask_emails(\\'Emails like user.name+tag+sorting@example.com are complicated!\\') == \\'Emails like [MASKED]@example.com are complicated!\\', \"Tagged email test failed\"\\nassert mask_emails(\\'Embedded emails are tricky: my.email@is.here.co and here as well: another_email123@example.io\\') == \\'Embedded emails are tricky: [MASKED]@is.here.co and here as well: [MASKED]@example.io\\', \"Embedded emails test failed\"\\nassert mask_emails(\\'Nothing to replace in this string.\\') == \\'Nothing to replace in this string.\\', \"No email test failed\"\\nassert mask_emails(\\'\\') == \\'\\', \"Empty string test failed\"\\nassert mask_emails(\\'Just a domain@ without a local part is not an email.\\') == \\'Just a domain@ without a local part is not an email.\\', \"Fake email test failed\"\\nassert mask_emails(\\'Also ignore emails without a domain like @example.\\') == \\'Also ignore emails without a domain like @example.\\', \"Partial email test failed\"\\nassert mask_emails(\\'my.email@gmail.com another.email@hotmail.co.uk\\') == \\'[MASKED]@gmail.com [MASKED]@hotmail.co.uk\\', \"Multiple emails test failed\"\\nassert mask_emails(\\'Special chars email test: special+chars_here@foo-bar.baz.com\\') == \\'Special chars email test: [MASKED]@foo-bar.baz.com\\', \"Special chars in email test failed\"\\n\\nprint(\"All tests passed!\")\\n```\\n\\nWhen you run this code after defining the `mask_emails` function, all the assertions should pass if the function is implemented correctly. If any assertion fails, it means that the function does not work as expected for the test case associated with the failing assertion, indicating that you need to revise the function code. Remember that assertion statements are used to check for conditions that must be met, and if the condition is not met, an `AssertionError` will be raised.'"
      ]
     },
     "execution_count": 9,
     "metadata": {},
     "output_type": "execute_result"
    }
   ],
   "source": [
    "chat('Create a set of assertion statements that test the function.')"
   ]
  },
  {
   "cell_type": "code",
   "execution_count": null,
   "metadata": {},
   "outputs": [],
   "source": []
  }
 ],
 "metadata": {
  "kernelspec": {
   "display_name": "Python 3",
   "language": "python",
   "name": "python3"
  },
  "language_info": {
   "codemirror_mode": {
    "name": "ipython",
    "version": 3
   },
   "file_extension": ".py",
   "mimetype": "text/x-python",
   "name": "python",
   "nbconvert_exporter": "python",
   "pygments_lexer": "ipython3",
   "version": "3.11.7"
  }
 },
 "nbformat": 4,
 "nbformat_minor": 2
}
