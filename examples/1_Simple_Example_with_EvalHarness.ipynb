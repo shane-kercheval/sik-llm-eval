{
 "cells": [
  {
   "cell_type": "markdown",
   "metadata": {},
   "source": [
    "**NOTE**: you will need to create a `.env` file with this entry `OPENAI_API_KEY=<your key here>` that contains your OpenAI API Key"
   ]
  },
  {
   "cell_type": "markdown",
   "metadata": {},
   "source": [
    "# Evaluating OpenAI `4.0` and `4o-mini` against two evals\n",
    "\n",
    "This example shows how the EvalHarness is most commonly used, which is to evaluate a large number of test cases (Evals) against a small to large number of LLMs (Candidates). \n",
    "\n",
    "For demonstration purposes, we'll show how to use the EvalHarness to evaluate OpenAI `4.0` and `4o-mini` against two fictitious evals. The candidates and evals in this example are defined in yaml files.\n",
    "\n",
    "An EvalHarness is a class that encapsulates a set of Evals and set of Candidates, and runs the Evals against each of the Candidates. It also provides additional options for multiprocessing, asynchronous requests (to the underlying LLMs), and callback mechansism for saving files or logging/handling errors.\n",
    "\n",
    "In this example, the Eval and Candidate objects are added to the EvalHarness via `add_evals_from_yamls(...)` and `add_candidates_from_yamls(...)` which, in this case, load all yaml files found in the directories provided. Eval and Candidate objects can be added to the EvalHarness directly through `add_evals()` and `add_candidates()`. Evals/candidates that are defined in yaml files can be individually added to the EvalHarness via `add_eval_from_yaml()` which takes a string to the yaml file."
   ]
  },
  {
   "cell_type": "code",
   "execution_count": 1,
   "metadata": {},
   "outputs": [],
   "source": [
    "# EvalHarness runs evals asychronously, so we need to install nest_asyncio to avoid errors\n",
    "# running the evals in a notebook\n",
    "# !pip install nest_asyncio\n",
    "\n",
    "import nest_asyncio\n",
    "nest_asyncio.apply()  # needed for running async in jupyter notebook\n",
    "\n",
    "# set path to the root directory of the project\n",
    "import os\n",
    "os.chdir('..')"
   ]
  },
  {
   "cell_type": "code",
   "execution_count": 2,
   "metadata": {},
   "outputs": [
    {
     "name": "stdout",
     "output_type": "stream",
     "text": [
      "# of Evals:  3\n",
      "# of Candidates:  2\n",
      "Starting eval_harness\n",
      "Num Checks: 2\n",
      "Num Successful Checks: 2\n",
      "---\n",
      "Num Checks: 3\n",
      "Num Successful Checks: 2\n",
      "---\n",
      "Num Checks: 3\n",
      "Num Successful Checks: 3\n",
      "---\n",
      "Num Checks: 2\n",
      "Num Successful Checks: 2\n",
      "---\n",
      "Num Checks: 3\n",
      "Num Successful Checks: 2\n",
      "---\n",
      "Num Checks: 3\n",
      "Num Successful Checks: 3\n",
      "---\n",
      "Total time: 27.229626178741455\n"
     ]
    }
   ],
   "source": [
    "import time\n",
    "from examples.utils import print_result\n",
    "from llm_eval.eval import EvalHarness\n",
    "\n",
    "harness = EvalHarness(callback=print_result)\n",
    "harness.add_evals_from_yamls('examples/evals/*.yaml')\n",
    "harness.add_candidate_from_yaml('examples/candidates/openai_4.0.yaml')\n",
    "harness.add_candidate_from_yaml('examples/candidates/openai_4o-mini.yaml')\n",
    "\n",
    "print(\"# of Evals: \", len(harness.evals))\n",
    "print(\"# of Candidates: \", len(harness.candidates))\n",
    "\n",
    "print(\"Starting eval_harness\")\n",
    "start = time.time()\n",
    "results = harness()  # run the evals\n",
    "end = time.time()\n",
    "print(f\"Total time: {end - start}\")"
   ]
  },
  {
   "cell_type": "markdown",
   "metadata": {},
   "source": [
    "---"
   ]
  },
  {
   "cell_type": "markdown",
   "metadata": {},
   "source": [
    "The following is a dictionary representation of the second result (`[1]`) from the first candidate (`[0]`)."
   ]
  },
  {
   "cell_type": "code",
   "execution_count": 3,
   "metadata": {},
   "outputs": [
    {
     "data": {
      "text/plain": [
       "{'eval_obj': {'input': [{'role': 'system',\n",
       "    'content': 'You are a helpful assistant.'},\n",
       "   {'role': 'user',\n",
       "    'content': 'Create a python function called `mask_emails` that uses regex to mask all emails. For each email in the format of `x@y.z`, the local part (`x`) should be masked with [MASKED], but the domain (`@y.z`) should be retained. Use type hints and docstrings.'},\n",
       "   {'role': 'system',\n",
       "    'content': 'Here is the function to mask emails:\\n\\n```python\\nimport re\\n\\ndef mask_emails(value: str) -> str:\\n    \"\"\"\\n    Masks all emails in the input string.\\n    \"\"\"\\n    return re.sub(\\n        r\\'([a-zA-Z0-9._%+-]+)@([a-zA-Z0-9.-]+)\\\\\\\\.([a-zA-Z]{2,})\\',\\n        r\\'[MASKED]@\\\\\\\\2.\\\\\\\\3\\',\\n        value\\n    )\\n```\\n'},\n",
       "   {'role': 'user',\n",
       "    'content': 'Create a set of assertion statements that test the function.'}],\n",
       "  'checks': [{'value': 'assert mask_emails(', 'check_type': 'CONTAINS'},\n",
       "   {'check_type': 'PYTHON_CODE_BLOCKS_PRESENT'},\n",
       "   {'code_setup': 'import re\\n',\n",
       "    'code_tests': [\"def verify_mask_emails_with_no_email_returns_original_string(code_blocks: list[str]) -> bool:\\n    value = 'This is a string with no email addresses'\\n    return mask_emails(value) == value\",\n",
       "     \"def verify_mask_emails_with_single_email_returns_masked_string(code_blocks: list[str]) -> bool:\\n    value = 'This is a string with an email Susie@McSusers.com.'\\n    return mask_emails(value) == 'This is a string with an email [MASKED]@McSusers.com.'\"],\n",
       "    'check_type': 'PYTHON_CODE_BLOCK_TESTS'}],\n",
       "  'metadata': {'uuid': '8C297EA8-42B9-4237-9571-5C95A042E3BA',\n",
       "   'version': 1,\n",
       "   'name': 'Python Function to Mask Emails',\n",
       "   'description': 'Creates a python function that uses regex to mask all emails.',\n",
       "   'difficulty': 1,\n",
       "   'tags': ['python', 'regex'],\n",
       "   'source': 'Anaconda.'}},\n",
       " 'candidate_obj': {'metadata': {'name': 'OpenAI GPT-4.0-Turbo (2024-04-09)'},\n",
       "  'parameters': {'temperature': 0.01, 'max_tokens': 4096, 'seed': 42},\n",
       "  'candidate_type': 'OPENAI',\n",
       "  'model': 'gpt-4-turbo-2024-04-09'},\n",
       " 'response': 'Here are some assertion statements to test the `mask_emails` function. These tests cover various scenarios including basic email masking, handling multiple emails in a string, and ensuring non-email text remains unchanged.\\n\\n```python\\n# Test basic email masking\\nassert mask_emails(\"test@example.com\") == \"[MASKED]@example.com\", \"Failed to mask basic email\"\\n\\n# Test multiple emails in a single string\\nassert mask_emails(\"Email1: test@example.com, Email2: user@test.org\") == \\\\\\n       \"Email1: [MASKED]@example.com, Email2: [MASKED]@test.org\", \"Failed to mask multiple emails\"\\n\\n# Test email with subdomains\\nassert mask_emails(\"Email: user@mail.office.example.com\") == \\\\\\n       \"[MASKED]@office.example.com\", \"Failed to mask email with subdomain\"\\n\\n# Test email with numbers and special characters in local part\\nassert mask_emails(\"user123+filter@test.com\") == \"[MASKED]@test.com\", \"Failed to mask email with special characters\"\\n\\n# Test string with no email\\nassert mask_emails(\"No email here\") == \"No email here\", \"Incorrect masking when no email present\"\\n\\n# Test empty string\\nassert mask_emails(\"\") == \"\", \"Incorrect masking for empty string\"\\n\\n# Test string with multiple types of emails\\nassert mask_emails(\"Contact us at: info@example.com or support123+query@service.co.uk\") == \\\\\\n       \"Contact us at: [MASKED]@example.com or [MASKED]@service.co.uk\", \"Failed to mask complex email scenario\"\\n\\nprint(\"All tests passed!\")\\n```\\n\\nThese assertions will help ensure that the `mask_emails` function behaves as expected across a variety of input cases.',\n",
       " 'response_metadata': {'prompt_tokens': 197,\n",
       "  'completion_tokens': 353,\n",
       "  'total_tokens': 550,\n",
       "  'prompt_cost': 0.00197,\n",
       "  'completion_cost': 0.01059,\n",
       "  'total_cost': 0.01256,\n",
       "  'completion_characters': 1539},\n",
       " 'total_time_seconds': 18.504460096359253,\n",
       " 'timestamp': '2024-08-23 16:56:47 UTC',\n",
       " 'check_results': [{'value': True,\n",
       "   'success': True,\n",
       "   'metadata': {'check_type': 'CONTAINS',\n",
       "    'check_value': 'assert mask_emails(',\n",
       "    'check_negate': False,\n",
       "    'check_metadata': {}},\n",
       "   'result_type': 'PASS_FAIL'},\n",
       "  {'value': True,\n",
       "   'success': True,\n",
       "   'metadata': {'check_type': 'PYTHON_CODE_BLOCKS_PRESENT',\n",
       "    'num_code_blocks': 1,\n",
       "    'min_code_blocks': 1,\n",
       "    'code_blocks': ['# Test basic email masking\\nassert mask_emails(\"test@example.com\") == \"[MASKED]@example.com\", \"Failed to mask basic email\"\\n\\n# Test multiple emails in a single string\\nassert mask_emails(\"Email1: test@example.com, Email2: user@test.org\") == \\\\\\n       \"Email1: [MASKED]@example.com, Email2: [MASKED]@test.org\", \"Failed to mask multiple emails\"\\n\\n# Test email with subdomains\\nassert mask_emails(\"Email: user@mail.office.example.com\") == \\\\\\n       \"[MASKED]@office.example.com\", \"Failed to mask email with subdomain\"\\n\\n# Test email with numbers and special characters in local part\\nassert mask_emails(\"user123+filter@test.com\") == \"[MASKED]@test.com\", \"Failed to mask email with special characters\"\\n\\n# Test string with no email\\nassert mask_emails(\"No email here\") == \"No email here\", \"Incorrect masking when no email present\"\\n\\n# Test empty string\\nassert mask_emails(\"\") == \"\", \"Incorrect masking for empty string\"\\n\\n# Test string with multiple types of emails\\nassert mask_emails(\"Contact us at: info@example.com or support123+query@service.co.uk\") == \\\\\\n       \"Contact us at: [MASKED]@example.com or [MASKED]@service.co.uk\", \"Failed to mask complex email scenario\"\\n\\nprint(\"All tests passed!\")']},\n",
       "   'result_type': 'PASS_FAIL'},\n",
       "  {'value': 0.0,\n",
       "   'success': False,\n",
       "   'metadata': {'check_type': 'PYTHON_CODE_BLOCK_TESTS',\n",
       "    'num_code_blocks': 1,\n",
       "    'num_code_blocks_successful': 0,\n",
       "    'code_blocks': ['# Test basic email masking\\nassert mask_emails(\"test@example.com\") == \"[MASKED]@example.com\", \"Failed to mask basic email\"\\n\\n# Test multiple emails in a single string\\nassert mask_emails(\"Email1: test@example.com, Email2: user@test.org\") == \\\\\\n       \"Email1: [MASKED]@example.com, Email2: [MASKED]@test.org\", \"Failed to mask multiple emails\"\\n\\n# Test email with subdomains\\nassert mask_emails(\"Email: user@mail.office.example.com\") == \\\\\\n       \"[MASKED]@office.example.com\", \"Failed to mask email with subdomain\"\\n\\n# Test email with numbers and special characters in local part\\nassert mask_emails(\"user123+filter@test.com\") == \"[MASKED]@test.com\", \"Failed to mask email with special characters\"\\n\\n# Test string with no email\\nassert mask_emails(\"No email here\") == \"No email here\", \"Incorrect masking when no email present\"\\n\\n# Test empty string\\nassert mask_emails(\"\") == \"\", \"Incorrect masking for empty string\"\\n\\n# Test string with multiple types of emails\\nassert mask_emails(\"Contact us at: info@example.com or support123+query@service.co.uk\") == \\\\\\n       \"Contact us at: [MASKED]@example.com or [MASKED]@service.co.uk\", \"Failed to mask complex email scenario\"\\n\\nprint(\"All tests passed!\")'],\n",
       "    'code_block_errors': [{'error': 'NameError',\n",
       "      'message': \"name 'mask_emails' is not defined\"}],\n",
       "    'code_tests': [\"def verify_mask_emails_with_no_email_returns_original_string(code_blocks: list[str]) -> bool:\\n    value = 'This is a string with no email addresses'\\n    return mask_emails(value) == value\",\n",
       "     \"def verify_mask_emails_with_single_email_returns_masked_string(code_blocks: list[str]) -> bool:\\n    value = 'This is a string with an email Susie@McSusers.com.'\\n    return mask_emails(value) == 'This is a string with an email [MASKED]@McSusers.com.'\"],\n",
       "    'num_code_tests': 2,\n",
       "    'num_code_tests_successful': 0,\n",
       "    'code_test_results': [False, False],\n",
       "    'code_test_errors': [{'error': 'NameError',\n",
       "      'message': \"name 'mask_emails' is not defined\"},\n",
       "     {'error': 'NameError', 'message': \"name 'mask_emails' is not defined\"}]},\n",
       "   'success_threshold': 1.0,\n",
       "   'result_type': 'SCORE'}]}"
      ]
     },
     "execution_count": 3,
     "metadata": {},
     "output_type": "execute_result"
    }
   ],
   "source": [
    "results[0][1].to_dict()"
   ]
  },
  {
   "cell_type": "markdown",
   "metadata": {},
   "source": [
    "---"
   ]
  },
  {
   "cell_type": "markdown",
   "metadata": {},
   "source": [
    "The following code contains an example of how to summarize the eval results.\n",
    "\n",
    "The EvalHarness returns a list of lists. The outer list corresponds to each candidate and contains the eval results for that candate. So if there were 5 candidates evaluated the `results` object would be a list of 5 items (which are also lists). If there were 10 evals (evaulated against the 5 candidates) then each inner list would contain 10 `EvalResults` objects."
   ]
  },
  {
   "cell_type": "code",
   "execution_count": 4,
   "metadata": {},
   "outputs": [
    {
     "name": "stdout",
     "output_type": "stream",
     "text": [
      "Results for OpenAI GPT-4.0-Turbo (2024-04-09):\n",
      "  7/8 (87.5%) successful checks\n",
      "Results for OpenAI GPT-4o-mini:\n",
      "  7/8 (87.5%) successful checks\n"
     ]
    },
    {
     "data": {
      "text/html": [
       "<style type=\"text/css\">\n",
       "</style>\n",
       "<table id=\"T_6a51c\">\n",
       "  <thead>\n",
       "    <tr>\n",
       "      <th class=\"blank level0\" >&nbsp;</th>\n",
       "      <th id=\"T_6a51c_level0_col0\" class=\"col_heading level0 col0\" >name</th>\n",
       "      <th id=\"T_6a51c_level0_col1\" class=\"col_heading level0 col1\" >Avg chars per second</th>\n",
       "      <th id=\"T_6a51c_level0_col2\" class=\"col_heading level0 col2\" >Avg cost</th>\n",
       "      <th id=\"T_6a51c_level0_col3\" class=\"col_heading level0 col3\" ># checks</th>\n",
       "      <th id=\"T_6a51c_level0_col4\" class=\"col_heading level0 col4\" ># checks passed</th>\n",
       "      <th id=\"T_6a51c_level0_col5\" class=\"col_heading level0 col5\" >% checks passed</th>\n",
       "    </tr>\n",
       "  </thead>\n",
       "  <tbody>\n",
       "    <tr>\n",
       "      <th id=\"T_6a51c_level0_row0\" class=\"row_heading level0 row0\" >0</th>\n",
       "      <td id=\"T_6a51c_row0_col0\" class=\"data row0 col0\" >OpenAI GPT-4.0-Turbo (2024-04-09)</td>\n",
       "      <td id=\"T_6a51c_row0_col1\" class=\"data row0 col1\" >85.6</td>\n",
       "      <td id=\"T_6a51c_row0_col2\" class=\"data row0 col2\" >0.0138</td>\n",
       "      <td id=\"T_6a51c_row0_col3\" class=\"data row0 col3\" >8</td>\n",
       "      <td id=\"T_6a51c_row0_col4\" class=\"data row0 col4\" >7</td>\n",
       "      <td id=\"T_6a51c_row0_col5\" class=\"data row0 col5\" >87.5%</td>\n",
       "    </tr>\n",
       "    <tr>\n",
       "      <th id=\"T_6a51c_level0_row1\" class=\"row_heading level0 row1\" >1</th>\n",
       "      <td id=\"T_6a51c_row1_col0\" class=\"data row1 col0\" >OpenAI GPT-4o-mini</td>\n",
       "      <td id=\"T_6a51c_row1_col1\" class=\"data row1 col1\" >296.8</td>\n",
       "      <td id=\"T_6a51c_row1_col2\" class=\"data row1 col2\" >0.0002</td>\n",
       "      <td id=\"T_6a51c_row1_col3\" class=\"data row1 col3\" >8</td>\n",
       "      <td id=\"T_6a51c_row1_col4\" class=\"data row1 col4\" >7</td>\n",
       "      <td id=\"T_6a51c_row1_col5\" class=\"data row1 col5\" >87.5%</td>\n",
       "    </tr>\n",
       "  </tbody>\n",
       "</table>\n"
      ],
      "text/plain": [
       "<pandas.io.formats.style.Styler at 0x11664e890>"
      ]
     },
     "execution_count": 4,
     "metadata": {},
     "output_type": "execute_result"
    }
   ],
   "source": [
    "import pandas as pd\n",
    "\n",
    "results_summary = []\n",
    "# each outer list in results corresponds to a candidate\n",
    "for cand_obj, cand_results in zip(harness.candidates, results):\n",
    "    candidate_name = cand_obj.metadata['name']\n",
    "\n",
    "    num_characters = sum(len(r.response) for r in cand_results)\n",
    "    total_time = sum(r.total_time_seconds for r in cand_results)\n",
    "    avg_chars_per_second = num_characters / total_time\n",
    "    avg_cost = sum(r.response_metadata['total_cost'] for r in cand_results) / len(cand_results)\n",
    "    num_checks = sum(len(r.check_results) for r in cand_results)\n",
    "    num_successful_checks = sum(r.num_successful_checks for r in cand_results)\n",
    "    percent_success = num_successful_checks / num_checks\n",
    "    results_summary.append({\n",
    "        'name': candidate_name,\n",
    "        'Avg chars per second': avg_chars_per_second,\n",
    "        'Avg cost': avg_cost,\n",
    "        '# checks': num_checks,\n",
    "        '# checks passed': num_successful_checks,\n",
    "        '% checks passed': percent_success,\n",
    "    })\n",
    "    print(f\"Results for {candidate_name}:\")\n",
    "    print(f\"  {num_successful_checks}/{num_checks} ({percent_success:.1%}) successful checks\")\n",
    "\n",
    "pd.DataFrame(results_summary).style.format({\n",
    "    'Avg chars per second': '{:.1f}',\n",
    "    'Avg cost': '{:.4f}',\n",
    "    '% checks passed': '{:.1%}',\n",
    "})"
   ]
  },
  {
   "cell_type": "markdown",
   "metadata": {},
   "source": [
    "---"
   ]
  },
  {
   "cell_type": "markdown",
   "metadata": {},
   "source": [
    "# Running a single Eval against a single Candidate\n",
    "\n",
    "A less common scenario, which might be useful when generating evals or debugging, is running a single Eval against a single Candidate. Eval objects are callable and can be executed by passing a candidate."
   ]
  },
  {
   "cell_type": "code",
   "execution_count": 5,
   "metadata": {},
   "outputs": [
    {
     "name": "stdout",
     "output_type": "stream",
     "text": [
      "<llm_eval.eval.EvalResult object at 0x116fcb510>\n"
     ]
    }
   ],
   "source": [
    "from llm_eval.candidates import OpenAICandidate\n",
    "from llm_eval.eval import Eval\n",
    "from llm_eval.openai import user_message\n",
    "\n",
    "candidate = OpenAICandidate(model='gpt-4o-mini')\n",
    "eval_obj = Eval(\n",
    "    input=[\n",
    "        user_message(\"Create a python function called `mask_emails` that uses regex to mask all emails.\")\n",
    "    ],\n",
    "    checks=[\n",
    "        # checks can be defined as dictionaries or as objects (e.g. ContainsCheck, PythonCodeBlocksPresentCheck)\n",
    "        {'check_type': 'CONTAINS', 'value': 'def mask_emails'},\n",
    "        {'check_type': 'PYTHON_CODE_BLOCKS_PRESENT'},\n",
    "    ],\n",
    ")\n",
    "result = eval_obj(candidate)\n",
    "print(result)"
   ]
  },
  {
   "cell_type": "code",
   "execution_count": 6,
   "metadata": {},
   "outputs": [
    {
     "data": {
      "text/plain": [
       "{'eval_obj': {'input': [{'role': 'user',\n",
       "    'content': 'Create a python function called `mask_emails` that uses regex to mask all emails.'}],\n",
       "  'checks': [{'value': 'def mask_emails', 'check_type': 'CONTAINS'},\n",
       "   {'check_type': 'PYTHON_CODE_BLOCKS_PRESENT'}]},\n",
       " 'candidate_obj': {'candidate_type': 'OPENAI', 'model': 'gpt-4o-mini'},\n",
       " 'response': 'You can use the `re` module in Python to create a function that masks emails in a given text. The function will replace the part of the email address before the \"@\" symbol with asterisks (`*`), while leaving the domain visible. Here\\'s how you can implement the `mask_emails` function:\\n\\n```python\\nimport re\\n\\ndef mask_emails(text):\\n    # Regex pattern to match email addresses\\n    email_pattern = r\"([a-zA-Z0-9._%+-]+)@([a-zA-Z0-9.-]+\\\\.[a-zA-Z]{2,})\"\\n    \\n    # Function to replace the email address with masked version\\n    def replace_email(match):\\n        # Extract the email parts\\n        username = match.group(1)\\n        domain = match.group(2)\\n        # Mask the username part and return masked email\\n        masked_username = \\'*\\' * len(username)\\n        return f\"{masked_username}@{domain}\"\\n    \\n    # Replacing emails in the text\\n    masked_text = re.sub(email_pattern, replace_email, text)\\n    return masked_text\\n\\n# Example usage\\nsample_text = \"You can contact us at support@example.com or sales@example.org.\"\\nmasked_text = mask_emails(sample_text)\\nprint(masked_text)\\n```\\n\\n### Explanation:\\n1. **Regex Pattern**:\\n   - The regex pattern `([a-zA-Z0-9._%+-]+)@([a-zA-Z0-9.-]+\\\\.[a-zA-Z]{2,})` captures the username (part before `@`) and the domain (part after `@`).\\n   - `([a-zA-Z0-9._%+-]+)` captures the username.\\n   - `@` is the literal character.\\n   - `([a-zA-Z0-9.-]+\\\\.[a-zA-Z]{2,})` captures the domain.\\n\\n2. **Replace Function**:\\n   - The `replace_email` function takes a regex match object. It retrieves the username and domain and replaces the username with a string of asterisks equivalent to its length.\\n\\n3. **Using `re.sub`**:\\n   - The `re.sub` function is used to substitute all occurrences of the regex pattern in the input `text` with the output from `replace_email`.\\n\\n### Example Output:\\nFor the input text,\\n```plaintext\\n\"You can contact us at support@example.com or sales@example.org.\"\\n```\\nThe function will output:\\n```plaintext\\n\"You can contact us at ********@example.com or *****@example.org.\"\\n``` \\n\\nFeel free to test the function and modify it as needed!',\n",
       " 'response_metadata': {'prompt_tokens': 25,\n",
       "  'completion_tokens': 540,\n",
       "  'total_tokens': 565,\n",
       "  'prompt_cost': 3.7499999999999997e-06,\n",
       "  'completion_cost': 0.00032399999999999996,\n",
       "  'total_cost': 0.00032774999999999997,\n",
       "  'completion_characters': 2075},\n",
       " 'total_time_seconds': 5.96715784072876,\n",
       " 'timestamp': '2024-08-23 16:56:53 UTC',\n",
       " 'check_results': [{'value': True,\n",
       "   'success': True,\n",
       "   'metadata': {'check_type': 'CONTAINS',\n",
       "    'check_value': 'def mask_emails',\n",
       "    'check_negate': False,\n",
       "    'check_metadata': {}},\n",
       "   'result_type': 'PASS_FAIL'},\n",
       "  {'value': True,\n",
       "   'success': True,\n",
       "   'metadata': {'check_type': 'PYTHON_CODE_BLOCKS_PRESENT',\n",
       "    'num_code_blocks': 3,\n",
       "    'min_code_blocks': 1,\n",
       "    'code_blocks': ['import re\\n\\ndef mask_emails(text):\\n    # Regex pattern to match email addresses\\n    email_pattern = r\"([a-zA-Z0-9._%+-]+)@([a-zA-Z0-9.-]+\\\\.[a-zA-Z]{2,})\"\\n    \\n    # Function to replace the email address with masked version\\n    def replace_email(match):\\n        # Extract the email parts\\n        username = match.group(1)\\n        domain = match.group(2)\\n        # Mask the username part and return masked email\\n        masked_username = \\'*\\' * len(username)\\n        return f\"{masked_username}@{domain}\"\\n    \\n    # Replacing emails in the text\\n    masked_text = re.sub(email_pattern, replace_email, text)\\n    return masked_text\\n\\n# Example usage\\nsample_text = \"You can contact us at support@example.com or sales@example.org.\"\\nmasked_text = mask_emails(sample_text)\\nprint(masked_text)',\n",
       "     'plaintext\\n\"You can contact us at support@example.com or sales@example.org.\"',\n",
       "     'plaintext\\n\"You can contact us at ********@example.com or *****@example.org.\"']},\n",
       "   'result_type': 'PASS_FAIL'}]}"
      ]
     },
     "execution_count": 6,
     "metadata": {},
     "output_type": "execute_result"
    }
   ],
   "source": [
    "result.to_dict()"
   ]
  },
  {
   "cell_type": "markdown",
   "metadata": {},
   "source": [
    "---"
   ]
  }
 ],
 "metadata": {
  "kernelspec": {
   "display_name": "Python 3",
   "language": "python",
   "name": "python3"
  },
  "language_info": {
   "codemirror_mode": {
    "name": "ipython",
    "version": 3
   },
   "file_extension": ".py",
   "mimetype": "text/x-python",
   "name": "python",
   "nbconvert_exporter": "python",
   "pygments_lexer": "ipython3",
   "version": "3.11.9"
  }
 },
 "nbformat": 4,
 "nbformat_minor": 2
}
