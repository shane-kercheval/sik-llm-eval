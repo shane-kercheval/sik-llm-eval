{
 "cells": [
  {
   "cell_type": "code",
   "execution_count": null,
   "metadata": {},
   "outputs": [],
   "source": []
  },
  {
   "cell_type": "code",
   "execution_count": null,
   "metadata": {},
   "outputs": [],
   "source": []
  },
  {
   "cell_type": "code",
   "execution_count": null,
   "metadata": {},
   "outputs": [],
   "source": [
    "\n",
    "    \n",
    "\n",
    "class RAGAgentCandidate(OpenAICandidate):\n",
    "    \"\"\"\n",
    "    A class that represents a Retrieval-Augmented Generation (RAG) agent candidate for handling document-based\n",
    "    question answering tasks. This class leverages an underlying RAG model to retrieve relevant documents and \n",
    "    generate responses based on provided input.\n",
    "\n",
    "    Attributes:\n",
    "    ----------\n",
    "    model_name : str\n",
    "        The name of the RAG model to be used for document retrieval and response generation.\n",
    "    use_all_messages_in_retrieval : bool\n",
    "        A flag indicating whether all the previous messages in the conversation should be used during document retrieval.\n",
    "    system_message : str\n",
    "        The system message or prompt to guide the behavior of the RAG agent during the conversation.\n",
    "    \"\"\"\n",
    "\n",
    "    def __init__(self, model_name: str, use_all_messages_in_retrieval: bool, system_message: str) -> None:\n",
    "        self.model_name = model_name\n",
    "        self.use_all_messages_in_retrieval = use_all_messages_in_retrieval\n",
    "        self.system_message = system_message\n",
    "\n",
    "    def __call__(self, input: dict) -> CandidateResponse:\n",
    "        documents, messages = input\n",
    "\n",
    "        doc_index_retrieved, response, time_dict = rag_agent(\n",
    "            documents=documents,\n",
    "            messages=messages,\n",
    "            model_name=self.model_name,\n",
    "            use_all_messages_in_retrieval=self.use_all_messages_in_retrieval,\n",
    "            system_message=self.system_message,\n",
    "        )\n",
    "\n",
    "        return {\n",
    "            'response': response,\n",
    "            'ground_truth_doc_that_was_retrieved': doc_index_retrieved,\n",
    "        }\n",
    "    \n"
   ]
  },
  {
   "cell_type": "code",
   "execution_count": null,
   "metadata": {},
   "outputs": [],
   "source": []
  },
  {
   "cell_type": "code",
   "execution_count": null,
   "metadata": {},
   "outputs": [],
   "source": []
  }
 ],
 "metadata": {
  "kernelspec": {
   "display_name": "Python 3",
   "language": "python",
   "name": "python3"
  },
  "language_info": {
   "name": "python",
   "version": "3.11.9"
  }
 },
 "nbformat": 4,
 "nbformat_minor": 2
}
